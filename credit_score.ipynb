{
 "cells": [
  {
   "cell_type": "markdown",
   "id": "190c506e-17b3-4cde-81c3-7645d93915e5",
   "metadata": {},
   "source": [
    "# Introdução"
   ]
  },
  {
   "cell_type": "markdown",
   "id": "e101ad0f-1112-4a48-bf04-a16190fd1781",
   "metadata": {},
   "source": [
    "This project aims to grant credit through logistic regression, which is a statistical technique widely used for this purpose, as it is very useful and easy to handle and understand. The database used is real data, the CPF number and name of the person were removed to maintain secrecy.",
    "\nThere are many columns in the dataset and some of them do not need to be explained as they are just names of credit lines in Brazil, but some important ones used in the modeling are:",
    "\n- Carteira Ativa: How much was spent on your behalf",
    "\n- Idade: Age",
    "\n- CNAE: What activity does the person work",
    "\n- Custo da Dívida: Average interest percentage of all lines of credit the person has",
    "\n- Vencidos: Payment delays",
    "\n- Modalidade: Represents various types of credit",
    "\n- Imóveis rurais: Rural properties",
    "\n- target: That's our target - 0 or 1"
   ]
  },
  {
   "cell_type": "markdown",
   "id": "24de0f0d-3a82-4bc5-b8b0-eac3fa24bb0c",
   "metadata": {},
   "source": [
    "# Importing Libraries and Extracting the Database"
   ]
  },
  {
   "cell_type": "code",
   "execution_count": 1,
   "id": "209999c7-47a3-4881-a518-d2ac48962186",
   "metadata": {},
   "outputs": [],
   "source": [
    "import pandas as pd\n",
    "import numpy as np\n",
    "import seaborn as sns\n",
    "import matplotlib.pyplot as plt\n",
    "from sklearn.metrics import roc_curve, auc\n",
    "from sklearn.metrics import confusion_matrix\n",
    "from sklearn.model_selection import train_test_split\n",
    "from pymongo import MongoClient\n",
    "from datetime import date, datetime as dt\n",
    "import re\n",
    "from sklearn.preprocessing import LabelEncoder\n",
    "import statsmodels.api as sm"
   ]
  },
  {
   "cell_type": "code",
   "execution_count": 40,
   "id": "445cdcc1-f1f9-4cb8-aac0-b31b5fbf8241",
   "metadata": {},
   "outputs": [],
   "source": [
    "df = pd.read_excel('Planilhas/Modelos/data_base.xlsx')"
   ]
  },
  {
   "cell_type": "markdown",
   "id": "ef1f2c7a-fd46-4d0e-bcc2-d14ab34a2aa1",
   "metadata": {},
   "source": [
    "# Exploratory Data Analysis and Variable Creation"
   ]
  },
  {
   "cell_type": "code",
   "execution_count": 6,
   "id": "4f0c4d1d-3250-4113-a8f4-eba8f1dca7d8",
   "metadata": {},
   "outputs": [
    {
     "data": {
      "text/html": [
       "<div><div id=96575d22-2743-49b1-b4db-87aae5c02161 style=\"display:none; background-color:#9D6CFF; color:white; width:200px; height:30px; padding-left:5px; border-radius:4px; flex-direction:row; justify-content:space-around; align-items:center;\" onmouseover=\"this.style.backgroundColor='#BA9BF8'\" onmouseout=\"this.style.backgroundColor='#9D6CFF'\" onclick=\"window.commands?.execute('create-mitosheet-from-dataframe-output');\">See Full Dataframe in Mito</div> <script> if (window.commands?.hasCommand('create-mitosheet-from-dataframe-output')) document.getElementById('96575d22-2743-49b1-b4db-87aae5c02161').style.display = 'flex' </script> <table border=\"1\" class=\"dataframe\">\n",
       "  <thead>\n",
       "    <tr style=\"text-align: right;\">\n",
       "      <th></th>\n",
       "      <th>Idade</th>\n",
       "      <th>atividade CNAE mais antiga</th>\n",
       "      <th>Qtde Protestos</th>\n",
       "      <th>Valor Total Protestos</th>\n",
       "      <th>Embargos ambientais</th>\n",
       "      <th>Criminal</th>\n",
       "      <th>Qtde Processos</th>\n",
       "      <th>Qtde Imóveis Rurais</th>\n",
       "      <th>Soma das áreas dos imóveis rurais</th>\n",
       "      <th>Vencidos 1m</th>\n",
       "      <th>...</th>\n",
       "      <th>Cartao credito 1m</th>\n",
       "      <th>Cartao credito 12m</th>\n",
       "      <th>Cheque especial 1m</th>\n",
       "      <th>Cheque especial 12m</th>\n",
       "      <th>Sem consignacao 1m</th>\n",
       "      <th>Sem consignacao 12m</th>\n",
       "      <th>Com consignacao 1m</th>\n",
       "      <th>Com consignacao 12m</th>\n",
       "      <th>score_quod</th>\n",
       "      <th>target</th>\n",
       "    </tr>\n",
       "  </thead>\n",
       "  <tbody>\n",
       "    <tr>\n",
       "      <th>0</th>\n",
       "      <td>37.0</td>\n",
       "      <td>NaN</td>\n",
       "      <td>0.0</td>\n",
       "      <td>0.0</td>\n",
       "      <td>0.0</td>\n",
       "      <td>1.0</td>\n",
       "      <td>NaN</td>\n",
       "      <td>0</td>\n",
       "      <td>0.0</td>\n",
       "      <td>0.0</td>\n",
       "      <td>...</td>\n",
       "      <td>0.137</td>\n",
       "      <td>0.150</td>\n",
       "      <td>0.000</td>\n",
       "      <td>0.000</td>\n",
       "      <td>0.0</td>\n",
       "      <td>0.0</td>\n",
       "      <td>0.0</td>\n",
       "      <td>0.0</td>\n",
       "      <td>518.0</td>\n",
       "      <td>1</td>\n",
       "    </tr>\n",
       "    <tr>\n",
       "      <th>1</th>\n",
       "      <td>31.0</td>\n",
       "      <td>4789-0/99 - Comércio varejista de outros produtos não especificados anteriormente</td>\n",
       "      <td>0.0</td>\n",
       "      <td>0.0</td>\n",
       "      <td>0.0</td>\n",
       "      <td>1.0</td>\n",
       "      <td>2.0</td>\n",
       "      <td>0</td>\n",
       "      <td>0.0</td>\n",
       "      <td>0.0</td>\n",
       "      <td>...</td>\n",
       "      <td>0.000</td>\n",
       "      <td>0.000</td>\n",
       "      <td>0.022</td>\n",
       "      <td>0.155</td>\n",
       "      <td>0.0</td>\n",
       "      <td>0.0</td>\n",
       "      <td>0.0</td>\n",
       "      <td>0.0</td>\n",
       "      <td>935.0</td>\n",
       "      <td>0</td>\n",
       "    </tr>\n",
       "    <tr>\n",
       "      <th>2</th>\n",
       "      <td>42.0</td>\n",
       "      <td>0151202 - Criação de bovinos para leite</td>\n",
       "      <td>0.0</td>\n",
       "      <td>0.0</td>\n",
       "      <td>0.0</td>\n",
       "      <td>1.0</td>\n",
       "      <td>12.0</td>\n",
       "      <td>0</td>\n",
       "      <td>0.0</td>\n",
       "      <td>0.0</td>\n",
       "      <td>...</td>\n",
       "      <td>0.491</td>\n",
       "      <td>0.505</td>\n",
       "      <td>0.000</td>\n",
       "      <td>0.000</td>\n",
       "      <td>0.0</td>\n",
       "      <td>0.0</td>\n",
       "      <td>0.0</td>\n",
       "      <td>0.0</td>\n",
       "      <td>548.0</td>\n",
       "      <td>1</td>\n",
       "    </tr>\n",
       "    <tr>\n",
       "      <th>3</th>\n",
       "      <td>58.0</td>\n",
       "      <td>NaN</td>\n",
       "      <td>0.0</td>\n",
       "      <td>0.0</td>\n",
       "      <td>0.0</td>\n",
       "      <td>1.0</td>\n",
       "      <td>NaN</td>\n",
       "      <td>0</td>\n",
       "      <td>0.0</td>\n",
       "      <td>0.0</td>\n",
       "      <td>...</td>\n",
       "      <td>0.000</td>\n",
       "      <td>0.000</td>\n",
       "      <td>0.000</td>\n",
       "      <td>0.000</td>\n",
       "      <td>0.0</td>\n",
       "      <td>0.0</td>\n",
       "      <td>0.0</td>\n",
       "      <td>0.0</td>\n",
       "      <td>694.0</td>\n",
       "      <td>0</td>\n",
       "    </tr>\n",
       "    <tr>\n",
       "      <th>4</th>\n",
       "      <td>26.0</td>\n",
       "      <td>0134-2/00 - Cultivo de café</td>\n",
       "      <td>0.0</td>\n",
       "      <td>0.0</td>\n",
       "      <td>0.0</td>\n",
       "      <td>1.0</td>\n",
       "      <td>NaN</td>\n",
       "      <td>0</td>\n",
       "      <td>0.0</td>\n",
       "      <td>0.0</td>\n",
       "      <td>...</td>\n",
       "      <td>0.000</td>\n",
       "      <td>0.000</td>\n",
       "      <td>0.000</td>\n",
       "      <td>0.000</td>\n",
       "      <td>0.0</td>\n",
       "      <td>0.0</td>\n",
       "      <td>0.0</td>\n",
       "      <td>0.0</td>\n",
       "      <td>926.0</td>\n",
       "      <td>0</td>\n",
       "    </tr>\n",
       "  </tbody>\n",
       "</table></div>"
      ],
      "text/plain": [
       "   Idade                         atividade CNAE mais antiga  Qtde Protestos  \\\n",
       "0   37.0                                                NaN             0.0   \n",
       "1   31.0  4789-0/99 - Comércio varejista de outros produ...             0.0   \n",
       "2   42.0            0151202 - Criação de bovinos para leite             0.0   \n",
       "3   58.0                                                NaN             0.0   \n",
       "4   26.0                        0134-2/00 - Cultivo de café             0.0   \n",
       "\n",
       "   Valor Total Protestos  Embargos ambientais  Criminal  Qtde Processos  \\\n",
       "0                    0.0                  0.0       1.0             NaN   \n",
       "1                    0.0                  0.0       1.0             2.0   \n",
       "2                    0.0                  0.0       1.0            12.0   \n",
       "3                    0.0                  0.0       1.0             NaN   \n",
       "4                    0.0                  0.0       1.0             NaN   \n",
       "\n",
       "   Qtde Imóveis Rurais  Soma das áreas dos imóveis rurais  Vencidos 1m  ...  \\\n",
       "0                    0                                0.0          0.0  ...   \n",
       "1                    0                                0.0          0.0  ...   \n",
       "2                    0                                0.0          0.0  ...   \n",
       "3                    0                                0.0          0.0  ...   \n",
       "4                    0                                0.0          0.0  ...   \n",
       "\n",
       "   Cartao credito 1m  Cartao credito 12m  Cheque especial 1m  \\\n",
       "0              0.137               0.150               0.000   \n",
       "1              0.000               0.000               0.022   \n",
       "2              0.491               0.505               0.000   \n",
       "3              0.000               0.000               0.000   \n",
       "4              0.000               0.000               0.000   \n",
       "\n",
       "   Cheque especial 12m  Sem consignacao 1m  Sem consignacao 12m  \\\n",
       "0                0.000                 0.0                  0.0   \n",
       "1                0.155                 0.0                  0.0   \n",
       "2                0.000                 0.0                  0.0   \n",
       "3                0.000                 0.0                  0.0   \n",
       "4                0.000                 0.0                  0.0   \n",
       "\n",
       "   Com consignacao 1m  Com consignacao 12m  score_quod  target  \n",
       "0                 0.0                  0.0       518.0       1  \n",
       "1                 0.0                  0.0       935.0       0  \n",
       "2                 0.0                  0.0       548.0       1  \n",
       "3                 0.0                  0.0       694.0       0  \n",
       "4                 0.0                  0.0       926.0       0  \n",
       "\n",
       "[5 rows x 40 columns]"
      ]
     },
     "execution_count": 6,
     "metadata": {},
     "output_type": "execute_result"
    }
   ],
   "source": [
    "df.head()"
   ]
  },
  {
   "cell_type": "code",
   "execution_count": 7,
   "id": "e7d6d5d3-17c1-4dc0-924c-d8843289844a",
   "metadata": {},
   "outputs": [
    {
     "name": "stdout",
     "output_type": "stream",
     "text": [
      "<class 'pandas.core.frame.DataFrame'>\n",
      "RangeIndex: 19715 entries, 0 to 19714\n",
      "Data columns (total 40 columns):\n",
      " #   Column                             Non-Null Count  Dtype  \n",
      "---  ------                             --------------  -----  \n",
      " 0   Idade                              19678 non-null  float64\n",
      " 1   atividade CNAE mais antiga         8816 non-null   object \n",
      " 2   Qtde Protestos                     17969 non-null  float64\n",
      " 3   Valor Total Protestos              17968 non-null  float64\n",
      " 4   Embargos ambientais                18186 non-null  float64\n",
      " 5   Criminal                           17079 non-null  float64\n",
      " 6   Qtde Processos                     8761 non-null   float64\n",
      " 7   Qtde Imóveis Rurais                19715 non-null  int64  \n",
      " 8   Soma das áreas dos imóveis rurais  19715 non-null  float64\n",
      " 9   Vencidos 1m                        19711 non-null  float64\n",
      " 10  Vencidos media 12m                 19711 non-null  float64\n",
      " 11  Qtde Vencidos 12m                  19711 non-null  float64\n",
      " 12  Prejuízos 1m                       19711 non-null  float64\n",
      " 13  Prejuízos media 12m                19711 non-null  float64\n",
      " 14  Qtde Prejuízos 12m                 19711 non-null  float64\n",
      " 15  Carteira Ativa 1m                  19711 non-null  float64\n",
      " 16  Carteira Ativa media 12m           19711 non-null  float64\n",
      " 17  Qtde Carteira Ativa 12m            19711 non-null  float64\n",
      " 18  Modalidade Emprestimos             17548 non-null  float64\n",
      " 19  Modalidade Outros Créditos         17313 non-null  float64\n",
      " 20  tempo experiencia max              10211 non-null  float64\n",
      " 21  Custo da Divida 1m                 19715 non-null  float64\n",
      " 22  Custo da Divida 6m                 19715 non-null  float64\n",
      " 23  Custo da Divida 12m                19715 non-null  float64\n",
      " 24  custeio1                           2936 non-null   float64\n",
      " 25  investimento1                      4071 non-null   float64\n",
      " 26  Adiantamento 1m                    19711 non-null  float64\n",
      " 27  Adiantamento 12m                   19711 non-null  float64\n",
      " 28  Cred rotativo 1m                   19711 non-null  float64\n",
      " 29  Cred rotativo 12m                  19711 non-null  float64\n",
      " 30  Cartao credito 1m                  19711 non-null  float64\n",
      " 31  Cartao credito 12m                 19711 non-null  float64\n",
      " 32  Cheque especial 1m                 19711 non-null  float64\n",
      " 33  Cheque especial 12m                19711 non-null  float64\n",
      " 34  Sem consignacao 1m                 19711 non-null  float64\n",
      " 35  Sem consignacao 12m                19711 non-null  float64\n",
      " 36  Com consignacao 1m                 19711 non-null  float64\n",
      " 37  Com consignacao 12m                19711 non-null  float64\n",
      " 38  score_quod                         19715 non-null  float64\n",
      " 39  target                             19715 non-null  int64  \n",
      "dtypes: float64(37), int64(2), object(1)\n",
      "memory usage: 6.0+ MB\n"
     ]
    }
   ],
   "source": [
    "df.info()"
   ]
  },
  {
   "cell_type": "markdown",
   "id": "00eb5d45-d023-4faf-9327-5ddf75eec46e",
   "metadata": {},
   "source": [
    "## Adjusting CNAE"
   ]
  },
  {
   "cell_type": "markdown",
   "id": "041c4b06-7228-4912-aad6-cca8f171097b",
   "metadata": {},
   "source": [
    "As can be seen, the CNAE is representing the code along with the name of the activity. The intention is to analyze only the code, so the first step is to separate it from the name and standardize it"
   ]
  },
  {
   "cell_type": "code",
   "execution_count": 44,
   "id": "40057235-8b20-4c9d-8cec-e25f8ba0c124",
   "metadata": {
    "tags": []
   },
   "outputs": [
    {
     "name": "stderr",
     "output_type": "stream",
     "text": [
      "C:\\Users\\JOAOPE~1\\AppData\\Local\\Temp/ipykernel_54964/1335142682.py:7: SettingWithCopyWarning: \n",
      "A value is trying to be set on a copy of a slice from a DataFrame\n",
      "\n",
      "See the caveats in the documentation: https://pandas.pydata.org/pandas-docs/stable/user_guide/indexing.html#returning-a-view-versus-a-copy\n",
      "  df['atividade CNAE mais antiga'][i] = '0'\n",
      "C:\\Users\\JOAOPE~1\\AppData\\Local\\Temp/ipykernel_54964/1335142682.py:11: SettingWithCopyWarning: \n",
      "A value is trying to be set on a copy of a slice from a DataFrame\n",
      "\n",
      "See the caveats in the documentation: https://pandas.pydata.org/pandas-docs/stable/user_guide/indexing.html#returning-a-view-versus-a-copy\n",
      "  df['cod_cnae'][i] = cod\n"
     ]
    }
   ],
   "source": [
    "df['cod_cnae'] = None\n",
    "for i in range(len(df)):\n",
    "    try:\n",
    "        lista = df['atividade CNAE mais antiga'][i].split(' - ')\n",
    "    except:\n",
    "        lista = []\n",
    "        df['atividade CNAE mais antiga'][i] = '0'\n",
    "    if len(lista) > 1:\n",
    "        cod = lista[0]\n",
    "        cod = re.sub('[.\\-/]','',cod)\n",
    "        df['cod_cnae'][i] = cod"
   ]
  },
  {
   "cell_type": "code",
   "execution_count": 9,
   "id": "bd017ba9-5e60-4cb5-9400-737887329a85",
   "metadata": {},
   "outputs": [
    {
     "data": {
      "text/plain": [
       "0151201    1090\n",
       "0151202     910\n",
       "0111302     358\n",
       "0134200     274\n",
       "0115600     267\n",
       "0114800     123\n",
       "0121101     119\n",
       "4781400      82\n",
       "0119999      61\n",
       "5099899      57\n",
       "4712100      55\n",
       "0111301      41\n",
       "0119905      38\n",
       "0155501      36\n",
       "5611203      35\n",
       "0121102      34\n",
       "4744099      33\n",
       "4530703      31\n",
       "4930202      31\n",
       "0151203      29\n",
       "4723700      28\n",
       "0133402      28\n",
       "0119906      24\n",
       "712100       24\n",
       "5611201      24\n",
       "0111399      23\n",
       "4722901      22\n",
       "0322101      21\n",
       "4724500      20\n",
       "4399103      19\n",
       "Name: cod_cnae, dtype: int64"
      ]
     },
     "execution_count": 9,
     "metadata": {},
     "output_type": "execute_result"
    }
   ],
   "source": [
    "df['cod_cnae'].value_counts().head(30)"
   ]
  },
  {
   "cell_type": "markdown",
   "id": "87edf870-dd4b-4e8e-9437-95b6f9629608",
   "metadata": {},
   "source": [
    "It is noticed that there are some CNAEs that are very common and others appear infrequently, these ones will be classified as 'other'. Null values will be padded with '0'."
   ]
  },
  {
   "cell_type": "code",
   "execution_count": 45,
   "id": "90a90e33-4ac9-4e85-aff3-4a668733585c",
   "metadata": {},
   "outputs": [],
   "source": [
    "lista_cnae = list(df['cod_cnae'].value_counts().head(9).index)"
   ]
  },
  {
   "cell_type": "code",
   "execution_count": 46,
   "id": "f58ce6b4-de4d-4fcf-ae1e-a6af3c29bba1",
   "metadata": {},
   "outputs": [],
   "source": [
    "df['cod_cnae'].fillna('0', inplace=True)"
   ]
  },
  {
   "cell_type": "code",
   "execution_count": 47,
   "id": "20ba7158-a134-4477-89c4-d2c0a2324880",
   "metadata": {},
   "outputs": [],
   "source": [
    "lista_cnae.append('0')"
   ]
  },
  {
   "cell_type": "code",
   "execution_count": 48,
   "id": "05e19da5-aff7-44c7-bb21-4b8bf5d3c412",
   "metadata": {},
   "outputs": [
    {
     "name": "stderr",
     "output_type": "stream",
     "text": [
      "C:\\Users\\JOAOPE~1\\AppData\\Local\\Temp/ipykernel_54964/4168600722.py:4: SettingWithCopyWarning: \n",
      "A value is trying to be set on a copy of a slice from a DataFrame\n",
      "\n",
      "See the caveats in the documentation: https://pandas.pydata.org/pandas-docs/stable/user_guide/indexing.html#returning-a-view-versus-a-copy\n",
      "  df['cod_cnae'][i] = cod\n"
     ]
    }
   ],
   "source": [
    "for i in range(len(df)):\n",
    "    cod = df['cod_cnae'][i]\n",
    "    cod = 'other' if cod not in lista_cnae else cod\n",
    "    df['cod_cnae'][i] = cod"
   ]
  },
  {
   "cell_type": "code",
   "execution_count": 49,
   "id": "432037c3-f896-4cb8-81e3-1a1c1cf663bd",
   "metadata": {},
   "outputs": [],
   "source": [
    "df.drop(columns=['atividade CNAE mais antiga'], inplace=True)"
   ]
  },
  {
   "cell_type": "code",
   "execution_count": 50,
   "id": "c7edb8d2-96b6-4e5d-ba6f-3743f608b264",
   "metadata": {},
   "outputs": [
    {
     "data": {
      "text/plain": [
       "0          14497\n",
       "other       1934\n",
       "0151201     1090\n",
       "0151202      910\n",
       "0111302      358\n",
       "0134200      274\n",
       "0115600      267\n",
       "0114800      123\n",
       "0121101      119\n",
       "4781400       82\n",
       "0119999       61\n",
       "Name: cod_cnae, dtype: int64"
      ]
     },
     "execution_count": 50,
     "metadata": {},
     "output_type": "execute_result"
    }
   ],
   "source": [
    "df['cod_cnae'].value_counts()"
   ]
  },
  {
   "cell_type": "markdown",
   "id": "5815a775-be31-4073-b8b0-338ec2d8b188",
   "metadata": {},
   "source": [
    "## Creating Variables for Specific Lines of Credit"
   ]
  },
  {
   "cell_type": "code",
   "execution_count": 51,
   "id": "2605d402-7cfa-4358-bef2-27feb115a421",
   "metadata": {},
   "outputs": [
    {
     "name": "stderr",
     "output_type": "stream",
     "text": [
      "C:\\Users\\JOAOPE~1\\AppData\\Local\\Temp/ipykernel_54964/1138556057.py:9: SettingWithCopyWarning: \n",
      "A value is trying to be set on a copy of a slice from a DataFrame\n",
      "\n",
      "See the caveats in the documentation: https://pandas.pydata.org/pandas-docs/stable/user_guide/indexing.html#returning-a-view-versus-a-copy\n",
      "  df['consig_class'][i] = (df['Sem consignacao 1m'][i] + df['Com consignacao 1m'][i])/(df['Sem consignacao 12m'][i] + df['Com consignacao 12m'][i]) if (df['Sem consignacao 12m'][i] + df['Com consignacao 12m'][i]) > 0 else (df['Sem consignacao 1m'][i] + df['Com consignacao 1m'][i])/0.1\n",
      "C:\\Users\\JOAOPE~1\\AppData\\Local\\Temp/ipykernel_54964/1138556057.py:10: SettingWithCopyWarning: \n",
      "A value is trying to be set on a copy of a slice from a DataFrame\n",
      "\n",
      "See the caveats in the documentation: https://pandas.pydata.org/pandas-docs/stable/user_guide/indexing.html#returning-a-view-versus-a-copy\n",
      "  df['cheque_class'][i] = df['Cheque especial 1m'][i]/df['Cheque especial 12m'][i] if df['Cheque especial 12m'][i] > 0 else df['Cheque especial 1m'][i]/0.1\n",
      "C:\\Users\\JOAOPE~1\\AppData\\Local\\Temp/ipykernel_54964/1138556057.py:11: SettingWithCopyWarning: \n",
      "A value is trying to be set on a copy of a slice from a DataFrame\n",
      "\n",
      "See the caveats in the documentation: https://pandas.pydata.org/pandas-docs/stable/user_guide/indexing.html#returning-a-view-versus-a-copy\n",
      "  df['cartao_class'][i] = df['Cartao credito 1m'][i]/df['Cartao credito 12m'][i] if df['Cartao credito 12m'][i] > 0 else df['Cartao credito 1m'][i]/0.1\n",
      "C:\\Users\\JOAOPE~1\\AppData\\Local\\Temp/ipykernel_54964/1138556057.py:12: SettingWithCopyWarning: \n",
      "A value is trying to be set on a copy of a slice from a DataFrame\n",
      "\n",
      "See the caveats in the documentation: https://pandas.pydata.org/pandas-docs/stable/user_guide/indexing.html#returning-a-view-versus-a-copy\n",
      "  df['cred_class'][i]   = df['Cred rotativo 1m'][i]/df['Cred rotativo 12m'][i] if df['Cred rotativo 12m'][i] > 0 else df['Cred rotativo 1m'][i]/0.1\n",
      "C:\\Users\\JOAOPE~1\\AppData\\Local\\Temp/ipykernel_54964/1138556057.py:13: SettingWithCopyWarning: \n",
      "A value is trying to be set on a copy of a slice from a DataFrame\n",
      "\n",
      "See the caveats in the documentation: https://pandas.pydata.org/pandas-docs/stable/user_guide/indexing.html#returning-a-view-versus-a-copy\n",
      "  df['adiant_class'][i] = df['Adiantamento 1m'][i]/df['Adiantamento 12m'][i] if df['Adiantamento 12m'][i] > 0 else df['Adiantamento 1m'][i]/0.1\n",
      "C:\\Users\\JOAOPE~1\\AppData\\Local\\Temp/ipykernel_54964/1138556057.py:14: SettingWithCopyWarning: \n",
      "A value is trying to be set on a copy of a slice from a DataFrame\n",
      "\n",
      "See the caveats in the documentation: https://pandas.pydata.org/pandas-docs/stable/user_guide/indexing.html#returning-a-view-versus-a-copy\n",
      "  df['invest_carteira'][i] = df['investimento1'][i]/df['Carteira Ativa 1m'][i] if df['Carteira Ativa 1m'][i] > 0 else df['investimento1'][i]/0.1\n",
      "C:\\Users\\JOAOPE~1\\AppData\\Local\\Temp/ipykernel_54964/1138556057.py:15: SettingWithCopyWarning: \n",
      "A value is trying to be set on a copy of a slice from a DataFrame\n",
      "\n",
      "See the caveats in the documentation: https://pandas.pydata.org/pandas-docs/stable/user_guide/indexing.html#returning-a-view-versus-a-copy\n",
      "  df['custeio_carteira'][i] = df['custeio1'][i]/df['Carteira Ativa 1m'][i] if df['Carteira Ativa 1m'][i] > 0 else df['custeio1'][i]/0.1\n"
     ]
    }
   ],
   "source": [
    "df['consig_class'] = np.nan\n",
    "df['cheque_class'] = np.nan\n",
    "df['cartao_class'] = np.nan\n",
    "df['cred_class'] = np.nan\n",
    "df['adiant_class'] = np.nan\n",
    "df['invest_carteira'] = np.nan\n",
    "df['custeio_carteira'] = np.nan\n",
    "for i in range(len(df)):\n",
    "    df['consig_class'][i] = (df['Sem consignacao 1m'][i] + df['Com consignacao 1m'][i])/(df['Sem consignacao 12m'][i] + df['Com consignacao 12m'][i]) if (df['Sem consignacao 12m'][i] + df['Com consignacao 12m'][i]) > 0 else (df['Sem consignacao 1m'][i] + df['Com consignacao 1m'][i])/0.1\n",
    "    df['cheque_class'][i] = df['Cheque especial 1m'][i]/df['Cheque especial 12m'][i] if df['Cheque especial 12m'][i] > 0 else df['Cheque especial 1m'][i]/0.1\n",
    "    df['cartao_class'][i] = df['Cartao credito 1m'][i]/df['Cartao credito 12m'][i] if df['Cartao credito 12m'][i] > 0 else df['Cartao credito 1m'][i]/0.1\n",
    "    df['cred_class'][i]   = df['Cred rotativo 1m'][i]/df['Cred rotativo 12m'][i] if df['Cred rotativo 12m'][i] > 0 else df['Cred rotativo 1m'][i]/0.1\n",
    "    df['adiant_class'][i] = df['Adiantamento 1m'][i]/df['Adiantamento 12m'][i] if df['Adiantamento 12m'][i] > 0 else df['Adiantamento 1m'][i]/0.1\n",
    "    df['invest_carteira'][i] = df['investimento1'][i]/df['Carteira Ativa 1m'][i] if df['Carteira Ativa 1m'][i] > 0 else df['investimento1'][i]/0.1\n",
    "    df['custeio_carteira'][i] = df['custeio1'][i]/df['Carteira Ativa 1m'][i] if df['Carteira Ativa 1m'][i] > 0 else df['custeio1'][i]/0.1"
   ]
  },
  {
   "cell_type": "code",
   "execution_count": 53,
   "id": "52b1b3cb-c194-417e-b604-e7246ee899b3",
   "metadata": {},
   "outputs": [],
   "source": [
    "df.loc[df['consig_class'] < 1, 'consig_class'] = 0\n",
    "df.loc[df['consig_class'] >= 1, 'consig_class'] = 1\n",
    "\n",
    "df.loc[df['cheque_class'] < 1, 'cheque_class'] = 0\n",
    "df.loc[df['cheque_class'] >= 1, 'cheque_class'] = 1\n",
    "\n",
    "df.loc[df['cartao_class'] < 1, 'cartao_class'] = 0\n",
    "df.loc[df['cartao_class'] >= 1, 'cartao_class'] = 1\n",
    "\n",
    "df.loc[df['cred_class'] < 1, 'cred_class'] = 0\n",
    "df.loc[df['cred_class'] >= 1, 'cred_class'] = 1\n",
    "\n",
    "df.loc[df['adiant_class'] < 1, 'adiant_class'] = 0\n",
    "df.loc[df['adiant_class'] >= 1, 'adiant_class'] = 1"
   ]
  },
  {
   "cell_type": "markdown",
   "id": "f2447cf9-1a84-4e35-807b-f703fa19c035",
   "metadata": {},
   "source": [
    "## Missing Data"
   ]
  },
  {
   "cell_type": "markdown",
   "id": "e56b75d5-3607-4b23-a004-1bb79b4773e1",
   "metadata": {},
   "source": [
    "As our base is practically made up of variables of lines of credit or ownership of rural properties, so when it is null it is because the person did not take that type of credit or does not have a property registered in their name. In this way, we can fill in the missing data with zero"
   ]
  },
  {
   "cell_type": "code",
   "execution_count": 60,
   "id": "666e6087-1492-42da-b70a-acfe1a2a4c3f",
   "metadata": {},
   "outputs": [],
   "source": [
    "df = df.fillna(0)"
   ]
  },
  {
   "cell_type": "code",
   "execution_count": 61,
   "id": "2c250b96-9711-4523-ad40-2cd70e488b33",
   "metadata": {},
   "outputs": [
    {
     "name": "stdout",
     "output_type": "stream",
     "text": [
      "<class 'pandas.core.frame.DataFrame'>\n",
      "RangeIndex: 19715 entries, 0 to 19714\n",
      "Data columns (total 47 columns):\n",
      " #   Column                             Non-Null Count  Dtype  \n",
      "---  ------                             --------------  -----  \n",
      " 0   Idade                              19715 non-null  float64\n",
      " 1   Qtde Protestos                     19715 non-null  float64\n",
      " 2   Valor Total Protestos              19715 non-null  float64\n",
      " 3   Embargos ambientais                19715 non-null  float64\n",
      " 4   Criminal                           19715 non-null  float64\n",
      " 5   Qtde Processos                     19715 non-null  float64\n",
      " 6   Qtde Imóveis Rurais                19715 non-null  int64  \n",
      " 7   Soma das áreas dos imóveis rurais  19715 non-null  float64\n",
      " 8   Vencidos 1m                        19715 non-null  float64\n",
      " 9   Vencidos media 12m                 19715 non-null  float64\n",
      " 10  Qtde Vencidos 12m                  19715 non-null  float64\n",
      " 11  Prejuízos 1m                       19715 non-null  float64\n",
      " 12  Prejuízos media 12m                19715 non-null  float64\n",
      " 13  Qtde Prejuízos 12m                 19715 non-null  float64\n",
      " 14  Carteira Ativa 1m                  19715 non-null  float64\n",
      " 15  Carteira Ativa media 12m           19715 non-null  float64\n",
      " 16  Qtde Carteira Ativa 12m            19715 non-null  float64\n",
      " 17  Modalidade Emprestimos             19715 non-null  float64\n",
      " 18  Modalidade Outros Créditos         19715 non-null  float64\n",
      " 19  tempo experiencia max              19715 non-null  float64\n",
      " 20  Custo da Divida 1m                 19715 non-null  float64\n",
      " 21  Custo da Divida 6m                 19715 non-null  float64\n",
      " 22  Custo da Divida 12m                19715 non-null  float64\n",
      " 23  custeio1                           19715 non-null  float64\n",
      " 24  investimento1                      19715 non-null  float64\n",
      " 25  Adiantamento 1m                    19715 non-null  float64\n",
      " 26  Adiantamento 12m                   19715 non-null  float64\n",
      " 27  Cred rotativo 1m                   19715 non-null  float64\n",
      " 28  Cred rotativo 12m                  19715 non-null  float64\n",
      " 29  Cartao credito 1m                  19715 non-null  float64\n",
      " 30  Cartao credito 12m                 19715 non-null  float64\n",
      " 31  Cheque especial 1m                 19715 non-null  float64\n",
      " 32  Cheque especial 12m                19715 non-null  float64\n",
      " 33  Sem consignacao 1m                 19715 non-null  float64\n",
      " 34  Sem consignacao 12m                19715 non-null  float64\n",
      " 35  Com consignacao 1m                 19715 non-null  float64\n",
      " 36  Com consignacao 12m                19715 non-null  float64\n",
      " 37  score_quod                         19715 non-null  float64\n",
      " 38  target                             19715 non-null  int64  \n",
      " 39  cod_cnae                           19715 non-null  object \n",
      " 40  consig_class                       19715 non-null  float64\n",
      " 41  cheque_class                       19715 non-null  float64\n",
      " 42  cartao_class                       19715 non-null  float64\n",
      " 43  cred_class                         19715 non-null  float64\n",
      " 44  adiant_class                       19715 non-null  float64\n",
      " 45  invest_carteira                    19715 non-null  float64\n",
      " 46  custeio_carteira                   19715 non-null  float64\n",
      "dtypes: float64(44), int64(2), object(1)\n",
      "memory usage: 7.1+ MB\n"
     ]
    }
   ],
   "source": [
    "df.info()"
   ]
  },
  {
   "cell_type": "markdown",
   "id": "9032c594-82ac-44eb-ab34-fbaa36b07c0b",
   "metadata": {},
   "source": [
    "# Base Division"
   ]
  },
  {
   "cell_type": "code",
   "execution_count": 82,
   "id": "32819fdb-7877-4340-910e-66674290319c",
   "metadata": {},
   "outputs": [
    {
     "name": "stdout",
     "output_type": "stream",
     "text": [
      "(19715, 46) (19715,)\n"
     ]
    }
   ],
   "source": [
    "X = df.drop(['target'], axis=1)\n",
    "y = df['target']\n",
    "\n",
    "print(X.shape, y.shape)"
   ]
  },
  {
   "cell_type": "code",
   "execution_count": 83,
   "id": "4ef8118f-0f9b-4ff9-a3ce-988a6a771c6b",
   "metadata": {},
   "outputs": [
    {
     "name": "stdout",
     "output_type": "stream",
     "text": [
      "(13800, 46) (13800,)\n",
      "(5915, 46) (5915,)\n"
     ]
    }
   ],
   "source": [
    "X_train, X_test, y_train, y_test = train_test_split(X, y, test_size=0.3, random_state=12)\n",
    "\n",
    "print(X_train.shape, y_train.shape)\n",
    "print(X_test.shape, y_test.shape)"
   ]
  },
  {
   "cell_type": "markdown",
   "id": "cabc590e-51ce-4eed-99f2-fffc35e9a85c",
   "metadata": {},
   "source": [
    "# Exploratory Analysis"
   ]
  },
  {
   "cell_type": "markdown",
   "id": "6ed5aa8f-9001-4044-bb57-067112411f86",
   "metadata": {},
   "source": [
    "## Treating Outliers"
   ]
  },
  {
   "cell_type": "markdown",
   "id": "89067369-e614-4b41-a32e-c5ec02bf1af0",
   "metadata": {},
   "source": [
    "The treatment of outliers will be done through the Profile Report (a document generated with various statistical information for each variable), with a margin of 5 - 95%, the values that will not be in this range will be reassessed."
   ]
  },
  {
   "cell_type": "code",
   "execution_count": 22,
   "id": "c72bb23a-2367-4713-b4e6-ab0e6644492a",
   "metadata": {},
   "outputs": [
    {
     "name": "stderr",
     "output_type": "stream",
     "text": [
      "Pandas backend loaded 1.3.4\n",
      "Numpy backend loaded 1.20.3\n",
      "Pyspark backend NOT loaded\n",
      "Python backend loaded\n"
     ]
    }
   ],
   "source": [
    "from pandas_profiling import ProfileReport\n",
    "profile = ProfileReport(X_train,minimal=True)"
   ]
  },
  {
   "cell_type": "code",
   "execution_count": 23,
   "id": "54d20c69-786f-4114-a587-d1eec8532e46",
   "metadata": {},
   "outputs": [
    {
     "data": {
      "application/vnd.jupyter.widget-view+json": {
       "model_id": "30977fe51f1e42baa7d06f5d55778176",
       "version_major": 2,
       "version_minor": 0
      },
      "text/plain": [
       "Summarize dataset:   0%|          | 0/5 [00:00<?, ?it/s]"
      ]
     },
     "metadata": {},
     "output_type": "display_data"
    },
    {
     "name": "stderr",
     "output_type": "stream",
     "text": [
      "C:\\Users\\joaopedro\\anaconda3\\lib\\site-packages\\numpy\\core\\_methods.py:229: RuntimeWarning: invalid value encountered in subtract\n",
      "  x = asanyarray(arr - arrmean)\n"
     ]
    },
    {
     "data": {
      "application/vnd.jupyter.widget-view+json": {
       "model_id": "ceece1e1bb314407b1a96cbfb58ec23a",
       "version_major": 2,
       "version_minor": 0
      },
      "text/plain": [
       "Generate report structure:   0%|          | 0/1 [00:00<?, ?it/s]"
      ]
     },
     "metadata": {},
     "output_type": "display_data"
    },
    {
     "data": {
      "application/vnd.jupyter.widget-view+json": {
       "model_id": "3a2c84ea164648b79514e5ec59d61060",
       "version_major": 2,
       "version_minor": 0
      },
      "text/plain": [
       "Render HTML:   0%|          | 0/1 [00:00<?, ?it/s]"
      ]
     },
     "metadata": {},
     "output_type": "display_data"
    },
    {
     "data": {
      "application/vnd.jupyter.widget-view+json": {
       "model_id": "788240e38ae7440184929e8920312a40",
       "version_major": 2,
       "version_minor": 0
      },
      "text/plain": [
       "Export report to file:   0%|          | 0/1 [00:00<?, ?it/s]"
      ]
     },
     "metadata": {},
     "output_type": "display_data"
    }
   ],
   "source": [
    "profile.to_file('profile_regressao.html')"
   ]
  },
  {
   "cell_type": "code",
   "execution_count": 84,
   "id": "92939147-f363-43fd-a7d0-5f29fe413083",
   "metadata": {},
   "outputs": [
    {
     "name": "stderr",
     "output_type": "stream",
     "text": [
      "C:\\Users\\joaopedro\\anaconda3\\lib\\site-packages\\pandas\\core\\indexing.py:1817: SettingWithCopyWarning: \n",
      "A value is trying to be set on a copy of a slice from a DataFrame.\n",
      "Try using .loc[row_indexer,col_indexer] = value instead\n",
      "\n",
      "See the caveats in the documentation: https://pandas.pydata.org/pandas-docs/stable/user_guide/indexing.html#returning-a-view-versus-a-copy\n",
      "  self._setitem_single_column(loc, value, pi)\n"
     ]
    }
   ],
   "source": [
    "X_train.loc[X_train['Soma das áreas dos imóveis rurais'] > 52.805, 'Soma das áreas dos imóveis rurais'] = 52.805\n",
    "X_train.loc[X_train['Carteira Ativa 1m'] > 499, 'Carteira Ativa 1m'] = 499\n",
    "X_train.loc[X_train['Carteira Ativa media 12m'] > 422.58747, 'Carteira Ativa media 12m'] = 422.58747\n",
    "X_train.loc[X_train['Modalidade Emprestimos'] > 145.05, 'Modalidade Emprestimos'] = 145.05\n",
    "X_train.loc[X_train['Modalidade Outros Créditos'] > 22, 'Modalidade Outros Créditos'] = 22\n",
    "X_train.loc[X_train['tempo experiencia max'] > 19, 'tempo experiencia max'] = 19\n",
    "X_train.loc[X_train['Custo da Divida 1m'] > 0.07302552465, 'Custo da Divida 1m'] = 0.07302552465\n",
    "X_train.loc[X_train['Custo da Divida 6m'] > 0.3331455, 'Custo da Divida 6m'] = 0.3331455\n",
    "X_train.loc[X_train['Custo da Divida 12m'] > 2.7000878, 'Custo da Divida 12m'] = 2.7000878"
   ]
  },
  {
   "cell_type": "markdown",
   "id": "20d3d3fd-080b-4ff4-9de2-a9dae89eceab",
   "metadata": {},
   "source": [
    "## Applying Information Value (IV)"
   ]
  },
  {
   "cell_type": "markdown",
   "id": "aeaab64e-bb67-476a-a1f9-da103a3d4549",
   "metadata": {},
   "source": [
    "The IV is calculated to identify how important that variable is for our target, where <0.1 is not very significant, between 0.1 and 0.5 are significant and >0.5 is too significant or too good to be true, that is, it may be that it causes an imbalance in the model."
   ]
  },
  {
   "cell_type": "code",
   "execution_count": 25,
   "id": "01dfc167-3b1b-4a3a-8e9d-cba7ed73dae3",
   "metadata": {},
   "outputs": [],
   "source": [
    "from optbinning import OptimalBinning\n",
    "from optbinning import BinningProcess"
   ]
  },
  {
   "cell_type": "code",
   "execution_count": 85,
   "id": "e6aaa215-b9dd-4d58-98c5-b713a27ed5d9",
   "metadata": {},
   "outputs": [],
   "source": [
    "cols_df = list(X_train.columns)"
   ]
  },
  {
   "cell_type": "code",
   "execution_count": 86,
   "id": "e4c1e1c3-fae9-461c-8fa9-809da646c2dc",
   "metadata": {},
   "outputs": [
    {
     "name": "stdout",
     "output_type": "stream",
     "text": [
      "<class 'pandas.core.frame.DataFrame'>\n",
      "Int64Index: 13800 entries, 18476 to 14155\n",
      "Data columns (total 46 columns):\n",
      " #   Column                             Non-Null Count  Dtype  \n",
      "---  ------                             --------------  -----  \n",
      " 0   Idade                              13800 non-null  float64\n",
      " 1   Qtde Protestos                     13800 non-null  float64\n",
      " 2   Valor Total Protestos              13800 non-null  float64\n",
      " 3   Embargos ambientais                13800 non-null  float64\n",
      " 4   Criminal                           13800 non-null  float64\n",
      " 5   Qtde Processos                     13800 non-null  float64\n",
      " 6   Qtde Imóveis Rurais                13800 non-null  int64  \n",
      " 7   Soma das áreas dos imóveis rurais  13800 non-null  float64\n",
      " 8   Vencidos 1m                        13800 non-null  float64\n",
      " 9   Vencidos media 12m                 13800 non-null  float64\n",
      " 10  Qtde Vencidos 12m                  13800 non-null  float64\n",
      " 11  Prejuízos 1m                       13800 non-null  float64\n",
      " 12  Prejuízos media 12m                13800 non-null  float64\n",
      " 13  Qtde Prejuízos 12m                 13800 non-null  float64\n",
      " 14  Carteira Ativa 1m                  13800 non-null  float64\n",
      " 15  Carteira Ativa media 12m           13800 non-null  float64\n",
      " 16  Qtde Carteira Ativa 12m            13800 non-null  float64\n",
      " 17  Modalidade Emprestimos             13800 non-null  float64\n",
      " 18  Modalidade Outros Créditos         13800 non-null  float64\n",
      " 19  tempo experiencia max              13800 non-null  float64\n",
      " 20  Custo da Divida 1m                 13800 non-null  float64\n",
      " 21  Custo da Divida 6m                 13800 non-null  float64\n",
      " 22  Custo da Divida 12m                13800 non-null  float64\n",
      " 23  custeio1                           13800 non-null  float64\n",
      " 24  investimento1                      13800 non-null  float64\n",
      " 25  Adiantamento 1m                    13800 non-null  float64\n",
      " 26  Adiantamento 12m                   13800 non-null  float64\n",
      " 27  Cred rotativo 1m                   13800 non-null  float64\n",
      " 28  Cred rotativo 12m                  13800 non-null  float64\n",
      " 29  Cartao credito 1m                  13800 non-null  float64\n",
      " 30  Cartao credito 12m                 13800 non-null  float64\n",
      " 31  Cheque especial 1m                 13800 non-null  float64\n",
      " 32  Cheque especial 12m                13800 non-null  float64\n",
      " 33  Sem consignacao 1m                 13800 non-null  float64\n",
      " 34  Sem consignacao 12m                13800 non-null  float64\n",
      " 35  Com consignacao 1m                 13800 non-null  float64\n",
      " 36  Com consignacao 12m                13800 non-null  float64\n",
      " 37  score_quod                         13800 non-null  float64\n",
      " 38  cod_cnae                           13800 non-null  object \n",
      " 39  consig_class                       13800 non-null  float64\n",
      " 40  cheque_class                       13800 non-null  float64\n",
      " 41  cartao_class                       13800 non-null  float64\n",
      " 42  cred_class                         13800 non-null  float64\n",
      " 43  adiant_class                       13800 non-null  float64\n",
      " 44  invest_carteira                    13800 non-null  float64\n",
      " 45  custeio_carteira                   13800 non-null  float64\n",
      "dtypes: float64(44), int64(1), object(1)\n",
      "memory usage: 4.9+ MB\n"
     ]
    }
   ],
   "source": [
    "X_train.info()"
   ]
  },
  {
   "cell_type": "code",
   "execution_count": 87,
   "id": "38f3e59a-2e89-432c-aef6-7693f3ea4d3e",
   "metadata": {},
   "outputs": [
    {
     "data": {
      "text/plain": [
       "BinningProcess(categorical_variables=['adiant_class', 'cred_class',\n",
       "                                      'cartao_class', 'cheque_class',\n",
       "                                      'consig_class', 'cod_cnae'],\n",
       "               max_n_bins=3, min_prebin_size=0.1,\n",
       "               variable_names=['Idade', 'Qtde Protestos',\n",
       "                               'Valor Total Protestos', 'Embargos ambientais',\n",
       "                               'Criminal', 'Qtde Processos',\n",
       "                               'Qtde Imóveis Rurais',\n",
       "                               'Soma das áreas dos imóveis rurais',\n",
       "                               'Vencidos 1m', 'Vencidos media 12m',\n",
       "                               '...\n",
       "                               'Prejuízos media 12m', 'Qtde Prejuízos 12m',\n",
       "                               'Carteira Ativa 1m', 'Carteira Ativa media 12m',\n",
       "                               'Qtde Carteira Ativa 12m',\n",
       "                               'Modalidade Emprestimos',\n",
       "                               'Modalidade Outros Créditos',\n",
       "                               'tempo experiencia max', 'Custo da Divida 1m',\n",
       "                               'Custo da Divida 6m', 'Custo da Divida 12m',\n",
       "                               'custeio1', 'investimento1', 'Adiantamento 1m',\n",
       "                               'Adiantamento 12m', 'Cred rotativo 1m',\n",
       "                               'Cred rotativo 12m', 'Cartao credito 1m', ...])"
      ]
     },
     "execution_count": 87,
     "metadata": {},
     "output_type": "execute_result"
    }
   ],
   "source": [
    "categorical_variables = ['adiant_class','cred_class','cartao_class','cheque_class','consig_class','cod_cnae']\n",
    "binning_process = BinningProcess(cols_df,categorical_variables=categorical_variables,min_prebin_size = 0.1,max_n_bins=3)\n",
    "binning_process.fit(X_train, y_train)"
   ]
  },
  {
   "cell_type": "code",
   "execution_count": 88,
   "id": "06d50cf0-28ed-49e0-b9e0-b24895bddf2c",
   "metadata": {},
   "outputs": [],
   "source": [
    "iv_1 = binning_process.summary().sort_values(by=['iv'], ascending=False)"
   ]
  },
  {
   "cell_type": "code",
   "execution_count": 89,
   "id": "8ae70466-898b-493f-bfd9-69963f0332bc",
   "metadata": {},
   "outputs": [
    {
     "data": {
      "application/vnd.jupyter.widget-view+json": {
       "model_id": "ad9ff483713a4aefa00a0caf0da957f6",
       "version_major": 2,
       "version_minor": 0
      },
      "text/plain": [
       "MitoWidget(analysis_data_json='{\"analysisName\": \"id-icrtsoyovi\", \"analysisToReplay\": {\"analysisName\": \"id-kxlu…"
      ]
     },
     "metadata": {},
     "output_type": "display_data"
    }
   ],
   "source": [
    "import mitosheet\n",
    "mitosheet.sheet(iv_1, analysis_to_replay=\"id-kxlusiakau\")"
   ]
  },
  {
   "cell_type": "markdown",
   "id": "53b21932-6205-4abe-81e4-29a462fa5a28",
   "metadata": {},
   "source": [
    "We will evaluate each variable that had an IV > 0.5 through its event rate. If the event rate continuously grows or decreases between bins, it's a good sign."
   ]
  },
  {
   "cell_type": "code",
   "execution_count": 90,
   "id": "79c91a31-7e6e-4848-b6af-62ea0c727f02",
   "metadata": {},
   "outputs": [
    {
     "data": {
      "text/html": [
       "<div><div id=c72b7c5e-f9ae-40d2-9e3e-c4bc6329068e style=\"display:none; background-color:#9D6CFF; color:white; width:200px; height:30px; padding-left:5px; border-radius:4px; flex-direction:row; justify-content:space-around; align-items:center;\" onmouseover=\"this.style.backgroundColor='#BA9BF8'\" onmouseout=\"this.style.backgroundColor='#9D6CFF'\" onclick=\"window.commands?.execute('create-mitosheet-from-dataframe-output');\">See Full Dataframe in Mito</div> <script> if (window.commands?.hasCommand('create-mitosheet-from-dataframe-output')) document.getElementById('c72b7c5e-f9ae-40d2-9e3e-c4bc6329068e').style.display = 'flex' </script> <table border=\"1\" class=\"dataframe\">\n",
       "  <thead>\n",
       "    <tr style=\"text-align: right;\">\n",
       "      <th></th>\n",
       "      <th>Bin</th>\n",
       "      <th>Count</th>\n",
       "      <th>Count (%)</th>\n",
       "      <th>Non-event</th>\n",
       "      <th>Event</th>\n",
       "      <th>Event rate</th>\n",
       "      <th>WoE</th>\n",
       "      <th>IV</th>\n",
       "      <th>JS</th>\n",
       "    </tr>\n",
       "  </thead>\n",
       "  <tbody>\n",
       "    <tr>\n",
       "      <th>0</th>\n",
       "      <td>(-inf, 0.62)</td>\n",
       "      <td>2503</td>\n",
       "      <td>0.181377</td>\n",
       "      <td>421</td>\n",
       "      <td>2082</td>\n",
       "      <td>0.831802</td>\n",
       "      <td>-2.112989</td>\n",
       "      <td>0.749076</td>\n",
       "      <td>0.079364</td>\n",
       "    </tr>\n",
       "    <tr>\n",
       "      <th>1</th>\n",
       "      <td>[0.62, 14.50)</td>\n",
       "      <td>4269</td>\n",
       "      <td>0.309348</td>\n",
       "      <td>2885</td>\n",
       "      <td>1384</td>\n",
       "      <td>0.324198</td>\n",
       "      <td>0.22001</td>\n",
       "      <td>0.014513</td>\n",
       "      <td>0.001811</td>\n",
       "    </tr>\n",
       "    <tr>\n",
       "      <th>2</th>\n",
       "      <td>[14.50, inf)</td>\n",
       "      <td>7028</td>\n",
       "      <td>0.509275</td>\n",
       "      <td>5331</td>\n",
       "      <td>1697</td>\n",
       "      <td>0.241463</td>\n",
       "      <td>0.630139</td>\n",
       "      <td>0.181823</td>\n",
       "      <td>0.022359</td>\n",
       "    </tr>\n",
       "    <tr>\n",
       "      <th>3</th>\n",
       "      <td>Special</td>\n",
       "      <td>0</td>\n",
       "      <td>0.000000</td>\n",
       "      <td>0</td>\n",
       "      <td>0</td>\n",
       "      <td>0.000000</td>\n",
       "      <td>0.0</td>\n",
       "      <td>0.000000</td>\n",
       "      <td>0.000000</td>\n",
       "    </tr>\n",
       "    <tr>\n",
       "      <th>4</th>\n",
       "      <td>Missing</td>\n",
       "      <td>0</td>\n",
       "      <td>0.000000</td>\n",
       "      <td>0</td>\n",
       "      <td>0</td>\n",
       "      <td>0.000000</td>\n",
       "      <td>0.0</td>\n",
       "      <td>0.000000</td>\n",
       "      <td>0.000000</td>\n",
       "    </tr>\n",
       "    <tr>\n",
       "      <th>Totals</th>\n",
       "      <td></td>\n",
       "      <td>13800</td>\n",
       "      <td>1.000000</td>\n",
       "      <td>8637</td>\n",
       "      <td>5163</td>\n",
       "      <td>0.374130</td>\n",
       "      <td></td>\n",
       "      <td>0.945412</td>\n",
       "      <td>0.103534</td>\n",
       "    </tr>\n",
       "  </tbody>\n",
       "</table></div>"
      ],
      "text/plain": [
       "                  Bin  Count  Count (%)  Non-event  Event  Event rate  \\\n",
       "0        (-inf, 0.62)   2503   0.181377        421   2082    0.831802   \n",
       "1       [0.62, 14.50)   4269   0.309348       2885   1384    0.324198   \n",
       "2        [14.50, inf)   7028   0.509275       5331   1697    0.241463   \n",
       "3             Special      0   0.000000          0      0    0.000000   \n",
       "4             Missing      0   0.000000          0      0    0.000000   \n",
       "Totals                 13800   1.000000       8637   5163    0.374130   \n",
       "\n",
       "             WoE        IV        JS  \n",
       "0      -2.112989  0.749076  0.079364  \n",
       "1        0.22001  0.014513  0.001811  \n",
       "2       0.630139  0.181823  0.022359  \n",
       "3            0.0  0.000000  0.000000  \n",
       "4            0.0  0.000000  0.000000  \n",
       "Totals            0.945412  0.103534  "
      ]
     },
     "execution_count": 90,
     "metadata": {},
     "output_type": "execute_result"
    }
   ],
   "source": [
    "optb = binning_process.get_binned_variable(\"Carteira Ativa 1m\")\n",
    "optb.binning_table.build()"
   ]
  },
  {
   "cell_type": "code",
   "execution_count": 91,
   "id": "744978f8-b619-455c-879f-b4a264273b73",
   "metadata": {},
   "outputs": [
    {
     "data": {
      "text/html": [
       "<div><div id=8a70ad5a-0a6e-49b6-9394-34e4fc02736e style=\"display:none; background-color:#9D6CFF; color:white; width:200px; height:30px; padding-left:5px; border-radius:4px; flex-direction:row; justify-content:space-around; align-items:center;\" onmouseover=\"this.style.backgroundColor='#BA9BF8'\" onmouseout=\"this.style.backgroundColor='#9D6CFF'\" onclick=\"window.commands?.execute('create-mitosheet-from-dataframe-output');\">See Full Dataframe in Mito</div> <script> if (window.commands?.hasCommand('create-mitosheet-from-dataframe-output')) document.getElementById('8a70ad5a-0a6e-49b6-9394-34e4fc02736e').style.display = 'flex' </script> <table border=\"1\" class=\"dataframe\">\n",
       "  <thead>\n",
       "    <tr style=\"text-align: right;\">\n",
       "      <th></th>\n",
       "      <th>Bin</th>\n",
       "      <th>Count</th>\n",
       "      <th>Count (%)</th>\n",
       "      <th>Non-event</th>\n",
       "      <th>Event</th>\n",
       "      <th>Event rate</th>\n",
       "      <th>WoE</th>\n",
       "      <th>IV</th>\n",
       "      <th>JS</th>\n",
       "    </tr>\n",
       "  </thead>\n",
       "  <tbody>\n",
       "    <tr>\n",
       "      <th>0</th>\n",
       "      <td>(-inf, 0.32)</td>\n",
       "      <td>2196</td>\n",
       "      <td>0.159130</td>\n",
       "      <td>349</td>\n",
       "      <td>1847</td>\n",
       "      <td>0.841075</td>\n",
       "      <td>-2.180784</td>\n",
       "      <td>0.692028</td>\n",
       "      <td>0.072622</td>\n",
       "    </tr>\n",
       "    <tr>\n",
       "      <th>1</th>\n",
       "      <td>[0.32, 1.75)</td>\n",
       "      <td>1510</td>\n",
       "      <td>0.109420</td>\n",
       "      <td>839</td>\n",
       "      <td>671</td>\n",
       "      <td>0.444371</td>\n",
       "      <td>-0.291096</td>\n",
       "      <td>0.009555</td>\n",
       "      <td>0.001190</td>\n",
       "    </tr>\n",
       "    <tr>\n",
       "      <th>2</th>\n",
       "      <td>[1.75, inf)</td>\n",
       "      <td>10094</td>\n",
       "      <td>0.731449</td>\n",
       "      <td>7449</td>\n",
       "      <td>2645</td>\n",
       "      <td>0.262037</td>\n",
       "      <td>0.520871</td>\n",
       "      <td>0.182385</td>\n",
       "      <td>0.022544</td>\n",
       "    </tr>\n",
       "    <tr>\n",
       "      <th>3</th>\n",
       "      <td>Special</td>\n",
       "      <td>0</td>\n",
       "      <td>0.000000</td>\n",
       "      <td>0</td>\n",
       "      <td>0</td>\n",
       "      <td>0.000000</td>\n",
       "      <td>0.0</td>\n",
       "      <td>0.000000</td>\n",
       "      <td>0.000000</td>\n",
       "    </tr>\n",
       "    <tr>\n",
       "      <th>4</th>\n",
       "      <td>Missing</td>\n",
       "      <td>0</td>\n",
       "      <td>0.000000</td>\n",
       "      <td>0</td>\n",
       "      <td>0</td>\n",
       "      <td>0.000000</td>\n",
       "      <td>0.0</td>\n",
       "      <td>0.000000</td>\n",
       "      <td>0.000000</td>\n",
       "    </tr>\n",
       "    <tr>\n",
       "      <th>Totals</th>\n",
       "      <td></td>\n",
       "      <td>13800</td>\n",
       "      <td>1.000000</td>\n",
       "      <td>8637</td>\n",
       "      <td>5163</td>\n",
       "      <td>0.374130</td>\n",
       "      <td></td>\n",
       "      <td>0.883968</td>\n",
       "      <td>0.096356</td>\n",
       "    </tr>\n",
       "  </tbody>\n",
       "</table></div>"
      ],
      "text/plain": [
       "                 Bin  Count  Count (%)  Non-event  Event  Event rate  \\\n",
       "0       (-inf, 0.32)   2196   0.159130        349   1847    0.841075   \n",
       "1       [0.32, 1.75)   1510   0.109420        839    671    0.444371   \n",
       "2        [1.75, inf)  10094   0.731449       7449   2645    0.262037   \n",
       "3            Special      0   0.000000          0      0    0.000000   \n",
       "4            Missing      0   0.000000          0      0    0.000000   \n",
       "Totals                13800   1.000000       8637   5163    0.374130   \n",
       "\n",
       "             WoE        IV        JS  \n",
       "0      -2.180784  0.692028  0.072622  \n",
       "1      -0.291096  0.009555  0.001190  \n",
       "2       0.520871  0.182385  0.022544  \n",
       "3            0.0  0.000000  0.000000  \n",
       "4            0.0  0.000000  0.000000  \n",
       "Totals            0.883968  0.096356  "
      ]
     },
     "execution_count": 91,
     "metadata": {},
     "output_type": "execute_result"
    }
   ],
   "source": [
    "optb = binning_process.get_binned_variable(\"Carteira Ativa media 12m\")\n",
    "optb.binning_table.build()"
   ]
  },
  {
   "cell_type": "code",
   "execution_count": 92,
   "id": "975f426b-1506-43f3-90e1-2cc7361099d0",
   "metadata": {},
   "outputs": [
    {
     "data": {
      "text/html": [
       "<div><div id=a4bacc27-f60f-4ed8-9790-50cb4e47dfe6 style=\"display:none; background-color:#9D6CFF; color:white; width:200px; height:30px; padding-left:5px; border-radius:4px; flex-direction:row; justify-content:space-around; align-items:center;\" onmouseover=\"this.style.backgroundColor='#BA9BF8'\" onmouseout=\"this.style.backgroundColor='#9D6CFF'\" onclick=\"window.commands?.execute('create-mitosheet-from-dataframe-output');\">See Full Dataframe in Mito</div> <script> if (window.commands?.hasCommand('create-mitosheet-from-dataframe-output')) document.getElementById('a4bacc27-f60f-4ed8-9790-50cb4e47dfe6').style.display = 'flex' </script> <table border=\"1\" class=\"dataframe\">\n",
       "  <thead>\n",
       "    <tr style=\"text-align: right;\">\n",
       "      <th></th>\n",
       "      <th>Bin</th>\n",
       "      <th>Count</th>\n",
       "      <th>Count (%)</th>\n",
       "      <th>Non-event</th>\n",
       "      <th>Event</th>\n",
       "      <th>Event rate</th>\n",
       "      <th>WoE</th>\n",
       "      <th>IV</th>\n",
       "      <th>JS</th>\n",
       "    </tr>\n",
       "  </thead>\n",
       "  <tbody>\n",
       "    <tr>\n",
       "      <th>0</th>\n",
       "      <td>(-inf, 2.50)</td>\n",
       "      <td>1769</td>\n",
       "      <td>0.128188</td>\n",
       "      <td>258</td>\n",
       "      <td>1511</td>\n",
       "      <td>0.854155</td>\n",
       "      <td>-2.282105</td>\n",
       "      <td>0.599709</td>\n",
       "      <td>0.062022</td>\n",
       "    </tr>\n",
       "    <tr>\n",
       "      <th>1</th>\n",
       "      <td>[2.50, 11.50)</td>\n",
       "      <td>1982</td>\n",
       "      <td>0.143623</td>\n",
       "      <td>1008</td>\n",
       "      <td>974</td>\n",
       "      <td>0.491423</td>\n",
       "      <td>-0.480225</td>\n",
       "      <td>0.034549</td>\n",
       "      <td>0.004278</td>\n",
       "    </tr>\n",
       "    <tr>\n",
       "      <th>2</th>\n",
       "      <td>[11.50, inf)</td>\n",
       "      <td>10049</td>\n",
       "      <td>0.728188</td>\n",
       "      <td>7371</td>\n",
       "      <td>2678</td>\n",
       "      <td>0.266494</td>\n",
       "      <td>0.497946</td>\n",
       "      <td>0.166678</td>\n",
       "      <td>0.020622</td>\n",
       "    </tr>\n",
       "    <tr>\n",
       "      <th>3</th>\n",
       "      <td>Special</td>\n",
       "      <td>0</td>\n",
       "      <td>0.000000</td>\n",
       "      <td>0</td>\n",
       "      <td>0</td>\n",
       "      <td>0.000000</td>\n",
       "      <td>0.0</td>\n",
       "      <td>0.000000</td>\n",
       "      <td>0.000000</td>\n",
       "    </tr>\n",
       "    <tr>\n",
       "      <th>4</th>\n",
       "      <td>Missing</td>\n",
       "      <td>0</td>\n",
       "      <td>0.000000</td>\n",
       "      <td>0</td>\n",
       "      <td>0</td>\n",
       "      <td>0.000000</td>\n",
       "      <td>0.0</td>\n",
       "      <td>0.000000</td>\n",
       "      <td>0.000000</td>\n",
       "    </tr>\n",
       "    <tr>\n",
       "      <th>Totals</th>\n",
       "      <td></td>\n",
       "      <td>13800</td>\n",
       "      <td>1.000000</td>\n",
       "      <td>8637</td>\n",
       "      <td>5163</td>\n",
       "      <td>0.374130</td>\n",
       "      <td></td>\n",
       "      <td>0.800936</td>\n",
       "      <td>0.086922</td>\n",
       "    </tr>\n",
       "  </tbody>\n",
       "</table></div>"
      ],
      "text/plain": [
       "                  Bin  Count  Count (%)  Non-event  Event  Event rate  \\\n",
       "0        (-inf, 2.50)   1769   0.128188        258   1511    0.854155   \n",
       "1       [2.50, 11.50)   1982   0.143623       1008    974    0.491423   \n",
       "2        [11.50, inf)  10049   0.728188       7371   2678    0.266494   \n",
       "3             Special      0   0.000000          0      0    0.000000   \n",
       "4             Missing      0   0.000000          0      0    0.000000   \n",
       "Totals                 13800   1.000000       8637   5163    0.374130   \n",
       "\n",
       "             WoE        IV        JS  \n",
       "0      -2.282105  0.599709  0.062022  \n",
       "1      -0.480225  0.034549  0.004278  \n",
       "2       0.497946  0.166678  0.020622  \n",
       "3            0.0  0.000000  0.000000  \n",
       "4            0.0  0.000000  0.000000  \n",
       "Totals            0.800936  0.086922  "
      ]
     },
     "execution_count": 92,
     "metadata": {},
     "output_type": "execute_result"
    }
   ],
   "source": [
    "optb = binning_process.get_binned_variable(\"Qtde Carteira Ativa 12m\")\n",
    "optb.binning_table.build()"
   ]
  },
  {
   "cell_type": "code",
   "execution_count": 93,
   "id": "2c55b87a-0c4a-44eb-9af9-21d9250829a2",
   "metadata": {},
   "outputs": [
    {
     "data": {
      "text/html": [
       "<div><div id=942ffa75-13e4-4a15-9581-8c381a0ebdf5 style=\"display:none; background-color:#9D6CFF; color:white; width:200px; height:30px; padding-left:5px; border-radius:4px; flex-direction:row; justify-content:space-around; align-items:center;\" onmouseover=\"this.style.backgroundColor='#BA9BF8'\" onmouseout=\"this.style.backgroundColor='#9D6CFF'\" onclick=\"window.commands?.execute('create-mitosheet-from-dataframe-output');\">See Full Dataframe in Mito</div> <script> if (window.commands?.hasCommand('create-mitosheet-from-dataframe-output')) document.getElementById('942ffa75-13e4-4a15-9581-8c381a0ebdf5').style.display = 'flex' </script> <table border=\"1\" class=\"dataframe\">\n",
       "  <thead>\n",
       "    <tr style=\"text-align: right;\">\n",
       "      <th></th>\n",
       "      <th>Bin</th>\n",
       "      <th>Count</th>\n",
       "      <th>Count (%)</th>\n",
       "      <th>Non-event</th>\n",
       "      <th>Event</th>\n",
       "      <th>Event rate</th>\n",
       "      <th>WoE</th>\n",
       "      <th>IV</th>\n",
       "      <th>JS</th>\n",
       "    </tr>\n",
       "  </thead>\n",
       "  <tbody>\n",
       "    <tr>\n",
       "      <th>0</th>\n",
       "      <td>(-inf, 0.00)</td>\n",
       "      <td>3026</td>\n",
       "      <td>0.219275</td>\n",
       "      <td>1070</td>\n",
       "      <td>1956</td>\n",
       "      <td>0.646398</td>\n",
       "      <td>-1.11778</td>\n",
       "      <td>0.284994</td>\n",
       "      <td>0.033878</td>\n",
       "    </tr>\n",
       "    <tr>\n",
       "      <th>1</th>\n",
       "      <td>[0.00, 0.03)</td>\n",
       "      <td>8068</td>\n",
       "      <td>0.584638</td>\n",
       "      <td>6245</td>\n",
       "      <td>1823</td>\n",
       "      <td>0.225954</td>\n",
       "      <td>0.71676</td>\n",
       "      <td>0.265175</td>\n",
       "      <td>0.032455</td>\n",
       "    </tr>\n",
       "    <tr>\n",
       "      <th>2</th>\n",
       "      <td>[0.03, inf)</td>\n",
       "      <td>2706</td>\n",
       "      <td>0.196087</td>\n",
       "      <td>1322</td>\n",
       "      <td>1384</td>\n",
       "      <td>0.511456</td>\n",
       "      <td>-0.56037</td>\n",
       "      <td>0.064442</td>\n",
       "      <td>0.007951</td>\n",
       "    </tr>\n",
       "    <tr>\n",
       "      <th>3</th>\n",
       "      <td>Special</td>\n",
       "      <td>0</td>\n",
       "      <td>0.000000</td>\n",
       "      <td>0</td>\n",
       "      <td>0</td>\n",
       "      <td>0.000000</td>\n",
       "      <td>0.0</td>\n",
       "      <td>0.000000</td>\n",
       "      <td>0.000000</td>\n",
       "    </tr>\n",
       "    <tr>\n",
       "      <th>4</th>\n",
       "      <td>Missing</td>\n",
       "      <td>0</td>\n",
       "      <td>0.000000</td>\n",
       "      <td>0</td>\n",
       "      <td>0</td>\n",
       "      <td>0.000000</td>\n",
       "      <td>0.0</td>\n",
       "      <td>0.000000</td>\n",
       "      <td>0.000000</td>\n",
       "    </tr>\n",
       "    <tr>\n",
       "      <th>Totals</th>\n",
       "      <td></td>\n",
       "      <td>13800</td>\n",
       "      <td>1.000000</td>\n",
       "      <td>8637</td>\n",
       "      <td>5163</td>\n",
       "      <td>0.374130</td>\n",
       "      <td></td>\n",
       "      <td>0.614610</td>\n",
       "      <td>0.074285</td>\n",
       "    </tr>\n",
       "  </tbody>\n",
       "</table></div>"
      ],
      "text/plain": [
       "                 Bin  Count  Count (%)  Non-event  Event  Event rate      WoE  \\\n",
       "0       (-inf, 0.00)   3026   0.219275       1070   1956    0.646398 -1.11778   \n",
       "1       [0.00, 0.03)   8068   0.584638       6245   1823    0.225954  0.71676   \n",
       "2        [0.03, inf)   2706   0.196087       1322   1384    0.511456 -0.56037   \n",
       "3            Special      0   0.000000          0      0    0.000000      0.0   \n",
       "4            Missing      0   0.000000          0      0    0.000000      0.0   \n",
       "Totals                13800   1.000000       8637   5163    0.374130            \n",
       "\n",
       "              IV        JS  \n",
       "0       0.284994  0.033878  \n",
       "1       0.265175  0.032455  \n",
       "2       0.064442  0.007951  \n",
       "3       0.000000  0.000000  \n",
       "4       0.000000  0.000000  \n",
       "Totals  0.614610  0.074285  "
      ]
     },
     "execution_count": 93,
     "metadata": {},
     "output_type": "execute_result"
    }
   ],
   "source": [
    "optb = binning_process.get_binned_variable(\"Custo da Divida 1m\")\n",
    "optb.binning_table.build()"
   ]
  },
  {
   "cell_type": "code",
   "execution_count": 94,
   "id": "a608c258-c0ca-47ca-b5d3-06b2de9306aa",
   "metadata": {},
   "outputs": [
    {
     "data": {
      "text/html": [
       "<div><div id=311f895c-ae70-4be3-ba59-f02a8ac12688 style=\"display:none; background-color:#9D6CFF; color:white; width:200px; height:30px; padding-left:5px; border-radius:4px; flex-direction:row; justify-content:space-around; align-items:center;\" onmouseover=\"this.style.backgroundColor='#BA9BF8'\" onmouseout=\"this.style.backgroundColor='#9D6CFF'\" onclick=\"window.commands?.execute('create-mitosheet-from-dataframe-output');\">See Full Dataframe in Mito</div> <script> if (window.commands?.hasCommand('create-mitosheet-from-dataframe-output')) document.getElementById('311f895c-ae70-4be3-ba59-f02a8ac12688').style.display = 'flex' </script> <table border=\"1\" class=\"dataframe\">\n",
       "  <thead>\n",
       "    <tr style=\"text-align: right;\">\n",
       "      <th></th>\n",
       "      <th>Bin</th>\n",
       "      <th>Count</th>\n",
       "      <th>Count (%)</th>\n",
       "      <th>Non-event</th>\n",
       "      <th>Event</th>\n",
       "      <th>Event rate</th>\n",
       "      <th>WoE</th>\n",
       "      <th>IV</th>\n",
       "      <th>JS</th>\n",
       "    </tr>\n",
       "  </thead>\n",
       "  <tbody>\n",
       "    <tr>\n",
       "      <th>0</th>\n",
       "      <td>(-inf, 677.50)</td>\n",
       "      <td>3416</td>\n",
       "      <td>0.247536</td>\n",
       "      <td>1273</td>\n",
       "      <td>2143</td>\n",
       "      <td>0.627342</td>\n",
       "      <td>-1.035368</td>\n",
       "      <td>0.277147</td>\n",
       "      <td>0.033174</td>\n",
       "    </tr>\n",
       "    <tr>\n",
       "      <th>1</th>\n",
       "      <td>[677.50, 871.50)</td>\n",
       "      <td>6401</td>\n",
       "      <td>0.463841</td>\n",
       "      <td>4026</td>\n",
       "      <td>2375</td>\n",
       "      <td>0.371036</td>\n",
       "      <td>0.013238</td>\n",
       "      <td>0.000081</td>\n",
       "      <td>0.000010</td>\n",
       "    </tr>\n",
       "    <tr>\n",
       "      <th>2</th>\n",
       "      <td>[871.50, inf)</td>\n",
       "      <td>3983</td>\n",
       "      <td>0.288623</td>\n",
       "      <td>3338</td>\n",
       "      <td>645</td>\n",
       "      <td>0.161938</td>\n",
       "      <td>1.129339</td>\n",
       "      <td>0.295378</td>\n",
       "      <td>0.035077</td>\n",
       "    </tr>\n",
       "    <tr>\n",
       "      <th>3</th>\n",
       "      <td>Special</td>\n",
       "      <td>0</td>\n",
       "      <td>0.000000</td>\n",
       "      <td>0</td>\n",
       "      <td>0</td>\n",
       "      <td>0.000000</td>\n",
       "      <td>0.0</td>\n",
       "      <td>0.000000</td>\n",
       "      <td>0.000000</td>\n",
       "    </tr>\n",
       "    <tr>\n",
       "      <th>4</th>\n",
       "      <td>Missing</td>\n",
       "      <td>0</td>\n",
       "      <td>0.000000</td>\n",
       "      <td>0</td>\n",
       "      <td>0</td>\n",
       "      <td>0.000000</td>\n",
       "      <td>0.0</td>\n",
       "      <td>0.000000</td>\n",
       "      <td>0.000000</td>\n",
       "    </tr>\n",
       "    <tr>\n",
       "      <th>Totals</th>\n",
       "      <td></td>\n",
       "      <td>13800</td>\n",
       "      <td>1.000000</td>\n",
       "      <td>8637</td>\n",
       "      <td>5163</td>\n",
       "      <td>0.374130</td>\n",
       "      <td></td>\n",
       "      <td>0.572606</td>\n",
       "      <td>0.068262</td>\n",
       "    </tr>\n",
       "  </tbody>\n",
       "</table></div>"
      ],
      "text/plain": [
       "                     Bin  Count  Count (%)  Non-event  Event  Event rate  \\\n",
       "0         (-inf, 677.50)   3416   0.247536       1273   2143    0.627342   \n",
       "1       [677.50, 871.50)   6401   0.463841       4026   2375    0.371036   \n",
       "2          [871.50, inf)   3983   0.288623       3338    645    0.161938   \n",
       "3                Special      0   0.000000          0      0    0.000000   \n",
       "4                Missing      0   0.000000          0      0    0.000000   \n",
       "Totals                    13800   1.000000       8637   5163    0.374130   \n",
       "\n",
       "             WoE        IV        JS  \n",
       "0      -1.035368  0.277147  0.033174  \n",
       "1       0.013238  0.000081  0.000010  \n",
       "2       1.129339  0.295378  0.035077  \n",
       "3            0.0  0.000000  0.000000  \n",
       "4            0.0  0.000000  0.000000  \n",
       "Totals            0.572606  0.068262  "
      ]
     },
     "execution_count": 94,
     "metadata": {},
     "output_type": "execute_result"
    }
   ],
   "source": [
    "optb = binning_process.get_binned_variable(\"score_quod\")\n",
    "optb.binning_table.build()"
   ]
  },
  {
   "cell_type": "markdown",
   "id": "9c30fbe3-274e-4ecb-b9d4-fceb045652d6",
   "metadata": {},
   "source": [
    "Only the \"Custo da Divida 1m\" that did not have a continuous increase/decrease in relation to the bins, so we will exclude it from the base. The rest seemed to be very relevant to the model."
   ]
  },
  {
   "cell_type": "code",
   "execution_count": 95,
   "id": "08e66e26-6d90-43f5-bd90-4f919a46a610",
   "metadata": {},
   "outputs": [
    {
     "data": {
      "text/html": [
       "<div><div id=3f81db98-198b-42ec-a7fd-6bcbb8cb0dfa style=\"display:none; background-color:#9D6CFF; color:white; width:200px; height:30px; padding-left:5px; border-radius:4px; flex-direction:row; justify-content:space-around; align-items:center;\" onmouseover=\"this.style.backgroundColor='#BA9BF8'\" onmouseout=\"this.style.backgroundColor='#9D6CFF'\" onclick=\"window.commands?.execute('create-mitosheet-from-dataframe-output');\">See Full Dataframe in Mito</div> <script> if (window.commands?.hasCommand('create-mitosheet-from-dataframe-output')) document.getElementById('3f81db98-198b-42ec-a7fd-6bcbb8cb0dfa').style.display = 'flex' </script> <table border=\"1\" class=\"dataframe\">\n",
       "  <thead>\n",
       "    <tr style=\"text-align: right;\">\n",
       "      <th></th>\n",
       "      <th>name</th>\n",
       "      <th>dtype</th>\n",
       "      <th>status</th>\n",
       "      <th>selected</th>\n",
       "      <th>n_bins</th>\n",
       "      <th>iv</th>\n",
       "      <th>js</th>\n",
       "      <th>gini</th>\n",
       "      <th>quality_score</th>\n",
       "    </tr>\n",
       "  </thead>\n",
       "  <tbody>\n",
       "    <tr>\n",
       "      <th>14</th>\n",
       "      <td>Carteira Ativa 1m</td>\n",
       "      <td>numerical</td>\n",
       "      <td>OPTIMAL</td>\n",
       "      <td>True</td>\n",
       "      <td>3</td>\n",
       "      <td>0.945412</td>\n",
       "      <td>0.103534</td>\n",
       "      <td>0.410175</td>\n",
       "      <td>0.173678</td>\n",
       "    </tr>\n",
       "    <tr>\n",
       "      <th>15</th>\n",
       "      <td>Carteira Ativa media 12m</td>\n",
       "      <td>numerical</td>\n",
       "      <td>OPTIMAL</td>\n",
       "      <td>True</td>\n",
       "      <td>3</td>\n",
       "      <td>0.883968</td>\n",
       "      <td>0.096356</td>\n",
       "      <td>0.379652</td>\n",
       "      <td>0.162464</td>\n",
       "    </tr>\n",
       "    <tr>\n",
       "      <th>16</th>\n",
       "      <td>Qtde Carteira Ativa 12m</td>\n",
       "      <td>numerical</td>\n",
       "      <td>OPTIMAL</td>\n",
       "      <td>True</td>\n",
       "      <td>3</td>\n",
       "      <td>0.800936</td>\n",
       "      <td>0.086922</td>\n",
       "      <td>0.363251</td>\n",
       "      <td>0.232778</td>\n",
       "    </tr>\n",
       "    <tr>\n",
       "      <th>20</th>\n",
       "      <td>Custo da Divida 1m</td>\n",
       "      <td>numerical</td>\n",
       "      <td>OPTIMAL</td>\n",
       "      <td>True</td>\n",
       "      <td>3</td>\n",
       "      <td>0.61461</td>\n",
       "      <td>0.074285</td>\n",
       "      <td>0.394741</td>\n",
       "      <td>0.547806</td>\n",
       "    </tr>\n",
       "    <tr>\n",
       "      <th>37</th>\n",
       "      <td>score_quod</td>\n",
       "      <td>numerical</td>\n",
       "      <td>OPTIMAL</td>\n",
       "      <td>True</td>\n",
       "      <td>3</td>\n",
       "      <td>0.572606</td>\n",
       "      <td>0.068262</td>\n",
       "      <td>0.387228</td>\n",
       "      <td>0.670271</td>\n",
       "    </tr>\n",
       "    <tr>\n",
       "      <th>...</th>\n",
       "      <td>...</td>\n",
       "      <td>...</td>\n",
       "      <td>...</td>\n",
       "      <td>...</td>\n",
       "      <td>...</td>\n",
       "      <td>...</td>\n",
       "      <td>...</td>\n",
       "      <td>...</td>\n",
       "      <td>...</td>\n",
       "    </tr>\n",
       "    <tr>\n",
       "      <th>44</th>\n",
       "      <td>invest_carteira</td>\n",
       "      <td>numerical</td>\n",
       "      <td>OPTIMAL</td>\n",
       "      <td>True</td>\n",
       "      <td>3</td>\n",
       "      <td>0.182514</td>\n",
       "      <td>0.022093</td>\n",
       "      <td>0.162129</td>\n",
       "      <td>0.298004</td>\n",
       "    </tr>\n",
       "    <tr>\n",
       "      <th>24</th>\n",
       "      <td>investimento1</td>\n",
       "      <td>numerical</td>\n",
       "      <td>OPTIMAL</td>\n",
       "      <td>True</td>\n",
       "      <td>3</td>\n",
       "      <td>0.180147</td>\n",
       "      <td>0.021853</td>\n",
       "      <td>0.161332</td>\n",
       "      <td>0.282865</td>\n",
       "    </tr>\n",
       "    <tr>\n",
       "      <th>21</th>\n",
       "      <td>Custo da Divida 6m</td>\n",
       "      <td>numerical</td>\n",
       "      <td>OPTIMAL</td>\n",
       "      <td>True</td>\n",
       "      <td>3</td>\n",
       "      <td>0.16473</td>\n",
       "      <td>0.020181</td>\n",
       "      <td>0.19264</td>\n",
       "      <td>0.399804</td>\n",
       "    </tr>\n",
       "    <tr>\n",
       "      <th>18</th>\n",
       "      <td>Modalidade Outros Créditos</td>\n",
       "      <td>numerical</td>\n",
       "      <td>OPTIMAL</td>\n",
       "      <td>True</td>\n",
       "      <td>3</td>\n",
       "      <td>0.154317</td>\n",
       "      <td>0.019119</td>\n",
       "      <td>0.199098</td>\n",
       "      <td>0.422271</td>\n",
       "    </tr>\n",
       "    <tr>\n",
       "      <th>8</th>\n",
       "      <td>Vencidos 1m</td>\n",
       "      <td>numerical</td>\n",
       "      <td>OPTIMAL</td>\n",
       "      <td>True</td>\n",
       "      <td>2</td>\n",
       "      <td>0.130187</td>\n",
       "      <td>0.015631</td>\n",
       "      <td>0.110271</td>\n",
       "      <td>0.123394</td>\n",
       "    </tr>\n",
       "  </tbody>\n",
       "</table></div>"
      ],
      "text/plain": [
       "                          name      dtype   status  selected n_bins        iv  \\\n",
       "14           Carteira Ativa 1m  numerical  OPTIMAL      True      3  0.945412   \n",
       "15    Carteira Ativa media 12m  numerical  OPTIMAL      True      3  0.883968   \n",
       "16     Qtde Carteira Ativa 12m  numerical  OPTIMAL      True      3  0.800936   \n",
       "20          Custo da Divida 1m  numerical  OPTIMAL      True      3   0.61461   \n",
       "37                  score_quod  numerical  OPTIMAL      True      3  0.572606   \n",
       "22         Custo da Divida 12m  numerical  OPTIMAL      True      3  0.363884   \n",
       "44             invest_carteira  numerical  OPTIMAL      True      3  0.182514   \n",
       "24               investimento1  numerical  OPTIMAL      True      3  0.180147   \n",
       "21          Custo da Divida 6m  numerical  OPTIMAL      True      3   0.16473   \n",
       "18  Modalidade Outros Créditos  numerical  OPTIMAL      True      3  0.154317   \n",
       "8                  Vencidos 1m  numerical  OPTIMAL      True      2  0.130187   \n",
       "\n",
       "          js      gini quality_score  \n",
       "14  0.103534  0.410175      0.173678  \n",
       "15  0.096356  0.379652      0.162464  \n",
       "16  0.086922  0.363251      0.232778  \n",
       "20  0.074285  0.394741      0.547806  \n",
       "37  0.068262  0.387228      0.670271  \n",
       "22  0.044778  0.301094      0.713028  \n",
       "44  0.022093  0.162129      0.298004  \n",
       "24  0.021853  0.161332      0.282865  \n",
       "21  0.020181   0.19264      0.399804  \n",
       "18  0.019119  0.199098      0.422271  \n",
       "8   0.015631  0.110271      0.123394  "
      ]
     },
     "execution_count": 95,
     "metadata": {},
     "output_type": "execute_result"
    }
   ],
   "source": [
    "iv_filtered = iv_1[iv_1['iv'] > 0.1]\n",
    "iv_filtered"
   ]
  },
  {
   "cell_type": "code",
   "execution_count": 96,
   "id": "aa88be8a-e1c4-48f6-b3ec-6eaf50c7c260",
   "metadata": {},
   "outputs": [],
   "source": [
    "X_train_c = X_train[list(iv_filtered['name'])]"
   ]
  },
  {
   "cell_type": "code",
   "execution_count": 97,
   "id": "70e47a7b-881d-46d7-94db-ea30f1fa6bf7",
   "metadata": {},
   "outputs": [
    {
     "name": "stderr",
     "output_type": "stream",
     "text": [
      "C:\\Users\\joaopedro\\anaconda3\\lib\\site-packages\\pandas\\core\\frame.py:4906: SettingWithCopyWarning: \n",
      "A value is trying to be set on a copy of a slice from a DataFrame\n",
      "\n",
      "See the caveats in the documentation: https://pandas.pydata.org/pandas-docs/stable/user_guide/indexing.html#returning-a-view-versus-a-copy\n",
      "  return super().drop(\n"
     ]
    }
   ],
   "source": [
    "X_train_c.drop(columns=['Custo da Divida 1m'], inplace=True)"
   ]
  },
  {
   "cell_type": "markdown",
   "id": "bd7ceec7-012f-4600-93c3-6cef78259373",
   "metadata": {},
   "source": [
    "## Analisando a Correlação"
   ]
  },
  {
   "cell_type": "markdown",
   "id": "c73fffcc-ef73-48b0-9ca0-c7a1819894c9",
   "metadata": {},
   "source": [
    "Variables that are highly correlated (either positively or negatively), will be excluded the one with the lowest IV value to avoid the multicollinearity. Variables that have more than 80% correlation will be treated"
   ]
  },
  {
   "cell_type": "code",
   "execution_count": 98,
   "id": "bb7dc7fc-67e5-409c-826b-fcfd939b4069",
   "metadata": {},
   "outputs": [
    {
     "data": {
      "text/plain": [
       "<AxesSubplot:>"
      ]
     },
     "execution_count": 98,
     "metadata": {},
     "output_type": "execute_result"
    },
    {
     "data": {
      "image/png": "[encoded data removed]",
      "text/plain": [
       "<Figure size 2160x2160 with 2 Axes>"
      ]
     },
     "metadata": {
      "needs_background": "light"
     },
     "output_type": "display_data"
    }
   ],
   "source": [
    "plt.figure(figsize=(30,30))\n",
    "sns.heatmap(X_train_c.corr(), annot = True)"
   ]
  },
  {
   "cell_type": "markdown",
   "id": "8a8e30aa-1d89-4336-acac-e4cb51b95e7c",
   "metadata": {},
   "source": [
    "In this case, only the 'Carteira Ativa media 12m' will be excluded"
   ]
  },
  {
   "cell_type": "code",
   "execution_count": 99,
   "id": "3286bbb7-d7f7-43a6-9b1f-b43fdf417ba7",
   "metadata": {},
   "outputs": [],
   "source": [
    "X_train_c.drop(columns=['Carteira Ativa media 12m'], inplace=True)"
   ]
  },
  {
   "cell_type": "markdown",
   "id": "6bfa3c99-dd44-4160-905e-85c6e0961ab6",
   "metadata": {},
   "source": [
    "# Modeling"
   ]
  },
  {
   "cell_type": "markdown",
   "id": "e5cbb3b7-5fe5-4e9a-8758-78d569b303b0",
   "metadata": {},
   "source": [
    "## Using StatsModel"
   ]
  },
  {
   "cell_type": "code",
   "execution_count": 100,
   "id": "2f8fc763-7eef-4155-be44-dd5ed650f0d1",
   "metadata": {},
   "outputs": [],
   "source": [
    "X_test_c = X_test[list(X_train_c.columns)]"
   ]
  },
  {
   "cell_type": "code",
   "execution_count": 101,
   "id": "6aa96ff7-2467-4a07-929f-ce9589b5eb24",
   "metadata": {},
   "outputs": [
    {
     "name": "stderr",
     "output_type": "stream",
     "text": [
      "C:\\Users\\joaopedro\\anaconda3\\lib\\site-packages\\statsmodels\\tsa\\tsatools.py:142: FutureWarning: In a future version of pandas all arguments of concat except for the argument 'objs' will be keyword-only\n",
      "  x = pd.concat(x[::order], 1)\n",
      "C:\\Users\\joaopedro\\anaconda3\\lib\\site-packages\\statsmodels\\genmod\\families\\links.py:188: RuntimeWarning: overflow encountered in exp\n",
      "  t = np.exp(-z)\n",
      "C:\\Users\\joaopedro\\anaconda3\\lib\\site-packages\\statsmodels\\genmod\\families\\family.py:947: RuntimeWarning: divide by zero encountered in log\n",
      "  y * np.log(mu / (1 - mu + 1e-20)) +\n",
      "C:\\Users\\joaopedro\\anaconda3\\lib\\site-packages\\statsmodels\\genmod\\families\\family.py:947: RuntimeWarning: invalid value encountered in multiply\n",
      "  y * np.log(mu / (1 - mu + 1e-20)) +\n"
     ]
    },
    {
     "name": "stdout",
     "output_type": "stream",
     "text": [
      "                 Generalized Linear Model Regression Results                  \n",
      "==============================================================================\n",
      "Dep. Variable:                 target   No. Observations:                13800\n",
      "Model:                            GLM   Df Residuals:                    13790\n",
      "Model Family:                Binomial   Df Model:                            9\n",
      "Link Function:                  logit   Scale:                          1.0000\n",
      "Method:                          IRLS   Log-Likelihood:                    nan\n",
      "Date:                Mon, 03 Oct 2022   Deviance:                       14889.\n",
      "Time:                        17:25:27   Pearson chi2:                 2.47e+08\n",
      "No. Iterations:                    11                                         \n",
      "Covariance Type:            nonrobust                                         \n",
      "==============================================================================================\n",
      "                                 coef    std err          z      P>|z|      [0.025      0.975]\n",
      "----------------------------------------------------------------------------------------------\n",
      "const                          3.6573      0.113     32.436      0.000       3.436       3.878\n",
      "Carteira Ativa 1m          -9.178e-05      0.000     -0.431      0.666      -0.001       0.000\n",
      "Qtde Carteira Ativa 12m       -0.1816      0.006    -30.177      0.000      -0.193      -0.170\n",
      "score_quod                    -0.0030      0.000    -23.305      0.000      -0.003      -0.003\n",
      "Custo da Divida 12m           -0.1291      0.033     -3.964      0.000      -0.193      -0.065\n",
      "invest_carteira               -0.8681      0.093     -9.316      0.000      -1.051      -0.685\n",
      "investimento1                  0.0002      0.000      1.849      0.064   -1.12e-05       0.000\n",
      "Custo da Divida 6m             2.2296      0.260      8.575      0.000       1.720       2.739\n",
      "Modalidade Outros Créditos    -0.0200      0.004     -5.065      0.000      -0.028      -0.012\n",
      "Vencidos 1m                    0.0615      0.009      7.176      0.000       0.045       0.078\n",
      "==============================================================================================\n",
      "\n",
      "\n",
      "Parameters:  const                         3.657298\n",
      "Carteira Ativa 1m            -0.000092\n",
      "Qtde Carteira Ativa 12m      -0.181621\n",
      "score_quod                   -0.003016\n",
      "Custo da Divida 12m          -0.129148\n",
      "invest_carteira              -0.868133\n",
      "investimento1                 0.000187\n",
      "Custo da Divida 6m            2.229631\n",
      "Modalidade Outros Créditos   -0.020032\n",
      "Vencidos 1m                   0.061464\n",
      "dtype: float64\n",
      "\n",
      "\n",
      "Odds ratio\n",
      "const                         38.756474\n",
      "Carteira Ativa 1m              0.999908\n",
      "Qtde Carteira Ativa 12m        0.833918\n",
      "score_quod                     0.996989\n",
      "Custo da Divida 12m            0.878844\n",
      "invest_carteira                0.419734\n",
      "investimento1                  1.000187\n",
      "Custo da Divida 6m             9.296434\n",
      "Modalidade Outros Créditos     0.980168\n",
      "Vencidos 1m                    1.063392\n",
      "dtype: float64\n"
     ]
    }
   ],
   "source": [
    "# Initialize the instance and train the model\n",
    "\n",
    "x_train_ = sm.add_constant(X_train_c)\n",
    "x_test_ = sm.add_constant(X_test_c)\n",
    "\n",
    "reg_log = sm.GLM(y_train, x_train_, family = sm.families.Binomial())\n",
    "\n",
    "reg_log = reg_log.fit()\n",
    "\n",
    "print(reg_log.summary())"
   ]
  },
  {
   "cell_type": "markdown",
   "id": "37cb20ec-a7e4-414c-8da8-6151c624e046",
   "metadata": {},
   "source": [
    "The only variable that proved to be of little relevance, according to the p-value, is the 'Carteira Ativa 1m', but we will keep it in the model because it is relevant in the evaluation of the client's SCR"
   ]
  },
  {
   "cell_type": "code",
   "execution_count": 102,
   "id": "1aaa302e-bf27-460d-bfd3-156f0c31c0b0",
   "metadata": {},
   "outputs": [
    {
     "name": "stdout",
     "output_type": "stream",
     "text": [
      "AUC - Treinamento : 0.783394\n",
      "Gini - Treinamento:  0.57\n",
      "\n",
      "\n",
      "AUC - Teste : 0.777149\n",
      "Gini - Teste:  0.55\n"
     ]
    },
    {
     "name": "stderr",
     "output_type": "stream",
     "text": [
      "C:\\Users\\joaopedro\\anaconda3\\lib\\site-packages\\statsmodels\\genmod\\families\\links.py:188: RuntimeWarning: overflow encountered in exp\n",
      "  t = np.exp(-z)\n"
     ]
    }
   ],
   "source": [
    "# Predicting on the training and test base\n",
    "\n",
    "y_pred_train = reg_log.predict(x_train_)\n",
    "\n",
    "y_pred_test = reg_log.predict(x_test_)\n",
    "\n",
    "# Calculating ROC and Gini - Training\n",
    "fpr_train, tpr_train, thresholds_train = roc_curve(y_train, y_pred_train)\n",
    "roc_auc_train = auc(fpr_train, tpr_train)\n",
    "\n",
    "print(\"AUC - Training : %f\" % roc_auc_train)\n",
    "print(\"Gini - Training: \", round(2*roc_auc_train-1,2))\n",
    "print(\"\\n\")\n",
    "\n",
    "# Calculating ROC and Gini - Test\n",
    "fpr_test, tpr_test, thresholds_test = roc_curve(y_test, y_pred_test)\n",
    "roc_auc_test = auc(fpr_test, tpr_test)\n",
    "\n",
    "print(\"AUC - Test : %f\" % roc_auc_test)\n",
    "print(\"Gini - Test: \", round(2*roc_auc_test-1,2))"
   ]
  },
  {
   "cell_type": "markdown",
   "id": "05106618-2e31-4519-8af8-3706e092025f",
   "metadata": {},
   "source": [
    "Both the AUC and Gini values are favorable, it still wouldn't be a great model, but we can say that it's good! Furthermore, the model appeared to be stable as there was little difference in indicators between training and testing."
   ]
  },
  {
   "cell_type": "markdown",
   "id": "ec5baaf8-4fb6-4007-8d80-ae9cafcbc37c",
   "metadata": {},
   "source": [
    "Now let's define the best cutoff point for credit acceptance. Here we will use the threshold value, where it indicates a higher TPR (True Positive Rate) and a lower FPR (False Positive Rate)"
   ]
  },
  {
   "cell_type": "code",
   "execution_count": 103,
   "id": "791e9d48-e1c4-4619-94fd-c821b5628c1c",
   "metadata": {},
   "outputs": [
    {
     "name": "stdout",
     "output_type": "stream",
     "text": [
      "        fpr    tpr  1-fpr   tf  thresholds\n",
      "2613  0.291  0.709  0.709 -0.0       0.315\n",
      "\n",
      "\n",
      "Optimal cut point: 0.353 \n"
     ]
    }
   ],
   "source": [
    "i = np.arange(len(tpr_train))\n",
    "roc_train = pd.DataFrame({'fpr' : pd.Series(fpr_train, index=i)\n",
    "                    , 'tpr' : pd.Series(tpr_train, index = i)\n",
    "                    , '1-fpr' : pd.Series(1-fpr_train, index = i)\n",
    "                    , 'tf' : pd.Series(tpr_train - (1-fpr_train), index = i)\n",
    "                    , 'thresholds' : pd.Series(thresholds_train, index = i)})\n",
    "\n",
    "print(round(roc_train.loc[(roc_train.tf-0).abs().argsort()[:1]],3))"
   ]
  },
  {
   "cell_type": "code",
   "execution_count": 104,
   "id": "5c79f810-232c-4aab-8cf7-0c34aa8564b1",
   "metadata": {},
   "outputs": [
    {
     "data": {
      "image/png": "[encoded data removed]",
      "text/plain": [
       "<Figure size 1080x720 with 1 Axes>"
      ]
     },
     "metadata": {
      "needs_background": "light"
     },
     "output_type": "display_data"
    }
   ],
   "source": [
    "# Plotting ROC (AUC) - Training\n",
    "fig, ax = plt.subplots()\n",
    "plt.plot(roc_train['tpr'])\n",
    "plt.plot(roc_train['1-fpr'], color = 'red')\n",
    "plt.xlabel('False Positive Rate')\n",
    "plt.ylabel('True Positive Rate')\n",
    "plt.title('ROC - Receiver operating characteristic')\n",
    "ax.set_xticklabels([]);\n",
    "plt.gcf().set_size_inches(15, 10)"
   ]
  },
  {
   "cell_type": "code",
   "execution_count": 105,
   "id": "955bc052-a310-4520-ba29-a82cfcd897be",
   "metadata": {},
   "outputs": [
    {
     "data": {
      "image/png": "[encoded data removed]",
      "text/plain": [
       "<Figure size 432x288 with 1 Axes>"
      ]
     },
     "metadata": {
      "needs_background": "light"
     },
     "output_type": "display_data"
    }
   ],
   "source": [
    "# Adjusting the cut point\n",
    "\n",
    "cutoff = 0.315\n",
    "\n",
    "# However, be careful: note that the final scores are not that granular (small base/few variables)\n",
    "# And there is concentration in 1\n",
    "\n",
    "plt.hist(y_pred_train)\n",
    "plt.hist(y_pred_test);\n",
    "\n",
    "# The effect here will be limited by the example, but on larger bases the impact is huge"
   ]
  },
  {
   "cell_type": "code",
   "execution_count": 106,
   "id": "6c8c494f-871f-4676-a780-37d783d97192",
   "metadata": {},
   "outputs": [],
   "source": [
    "# Preprocessing for the confusion matrix - Data must be binary\n",
    "from sklearn.metrics import confusion_matrix\n",
    "\n",
    "y_pred_train_bin = y_pred_train\n",
    "y_pred_test_bin = y_pred_test\n",
    "\n",
    "# Stepping through and transforming all training probabilities\n",
    "for score in range(0, len(y_pred_train-1)):\n",
    "    if y_pred_train.iloc[score] >= cutoff:\n",
    "        y_pred_train_bin.iloc[score] = 1\n",
    "    else:\n",
    "        y_pred_train_bin.iloc[score] = 0\n",
    "        \n",
    "\n",
    "# Stepping through and transforming all test probabilities\n",
    "for score in range(0, len(y_pred_test-1)):\n",
    "    if y_pred_test.iloc[score] >= cutoff:\n",
    "        y_pred_test_bin.iloc[score] = 1\n",
    "    else:\n",
    "        y_pred_test_bin.iloc[score] = 0"
   ]
  },
  {
   "cell_type": "code",
   "execution_count": 107,
   "id": "68154145-edf3-476e-9e9b-3929c5ebb1f1",
   "metadata": {},
   "outputs": [
    {
     "name": "stdout",
     "output_type": "stream",
     "text": [
      "Evaluating the training base:\n",
      "[[7276 1361]\n",
      " [2335 2828]]\n",
      "\n",
      "\n",
      "Evaluating the test base:\n",
      "[[3150  589]\n",
      " [ 985 1191]]\n"
     ]
    }
   ],
   "source": [
    "# Evaluating the training base\n",
    "print(confusion_matrix(y_train, y_pred_train_bin))\n",
    "print(\"\\n\")\n",
    "# Evaluating the test base\n",
    "print(confusion_matrix(y_valid, y_pred_test_bin))"
   ]
  },
  {
   "cell_type": "markdown",
   "id": "123a088a-03e6-4910-93f9-a6155c30a222",
   "metadata": {},
   "source": [
    "# Conclusion"
   ]
  },
  {
   "cell_type": "markdown",
   "id": "e778e0b0-d4fc-46aa-9c2d-10085c37c8b8",
   "metadata": {},
   "source": [
    "Both the AUC and Gini values are favorable, it still wouldn't be a great model, but we can say that it's good! Furthermore, the model appeared to be stable as there was little difference in indicators between training and testing."
   ]
  }
 ],
 "metadata": {
  "kernelspec": {
   "display_name": "Python 3 (ipykernel)",
   "language": "python",
   "name": "python3"
  },
  "language_info": {
   "codemirror_mode": {
    "name": "ipython",
    "version": 3
   },
   "file_extension": ".py",
   "mimetype": "text/x-python",
   "name": "python",
   "nbconvert_exporter": "python",
   "pygments_lexer": "ipython3",
   "version": "3.9.7"
  }
 },
 "nbformat": 4,
 "nbformat_minor": 5
}
